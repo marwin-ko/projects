{
 "cells": [
  {
   "cell_type": "markdown",
   "metadata": {},
   "source": [
    "# RUN MODEL"
   ]
  },
  {
   "cell_type": "code",
   "execution_count": 69,
   "metadata": {
    "collapsed": true
   },
   "outputs": [],
   "source": [
    "from sklearn.feature_extraction.text import CountVectorizer, TfidfVectorizer\n",
    "from sklearn.pipeline import make_pipeline, make_union\n",
    "from sklearn.cross_validation import train_test_split\n",
    "from sklearn.decomposition import TruncatedSVD\n",
    "from sklearn.base import TransformerMixin\n",
    "from xgboost import XGBClassifier\n",
    "from nltk.stem.wordnet import WordNetLemmatizer\n",
    "from nltk.tokenize import word_tokenize\n",
    "from nltk.corpus import stopwords\n",
    "import pandas as pd\n",
    "import numpy as np\n",
    "import warnings\n",
    "import pickle\n",
    "import re\n",
    "% matplotlib inline"
   ]
  },
  {
   "cell_type": "markdown",
   "metadata": {},
   "source": [
    "## TRANSFORMERS"
   ]
  },
  {
   "cell_type": "code",
   "execution_count": 70,
   "metadata": {
    "collapsed": false
   },
   "outputs": [],
   "source": [
    "class HtmlTransformer(TransformerMixin):\n",
    "    def transform(self, X, **transform_params):\n",
    "        cleaner = re.compile(r'<.*?>')\n",
    "        return pd.Series(X.apply(lambda x: re.sub(cleaner,' ',x)))\n",
    "    def fit(self, X, y=None, **fit_params):\n",
    "        return self\n",
    "    \n",
    "class RemoveCamelCaseTransformer(TransformerMixin):\n",
    "    def transform(self, X, **transform_params):\n",
    "        return pd.Series(X.apply(lambda x: re.sub(r'([a-z](?=[A-Z])|[A-Z](?=[A-Z][a-z]))', r'\\1 ',x)))\n",
    "    def fit(self, X, y=None, **fit_params):\n",
    "        return self\n",
    "    \n",
    "class RemoveSymsTransformer(TransformerMixin):\n",
    "    def transform(self, X, **transform_params):\n",
    "        return pd.Series(X.apply(lambda x: re.sub(re.compile(r'[^A-za-z0-9\\s\\.]'),' ',x)))\n",
    "    def fit(self, X, y=None, **fit_params):\n",
    "        return self\n",
    "    \n",
    "class TokenizeTransformer(TransformerMixin):\n",
    "    def transform(self, X, **transform_params):\n",
    "        return pd.Series(X.apply(lambda x:word_tokenize(x)))\n",
    "    def fit(self, X, y=None, **fit_params):\n",
    "        return self\n",
    "\n",
    "class LemmatizeTransformer(TransformerMixin):\n",
    "    def transform(self, X, **transform_params):\n",
    "        lmtzr = WordNetLemmatizer()\n",
    "        return pd.Series(X.apply(lambda x:[lmtzr.lemmatize(token.lower()) for token in x]))\n",
    "    def fit(self, X, y=None, **fit_params):\n",
    "        return self\n",
    "\n",
    "class RemoveStopWordsTransformer(TransformerMixin):\n",
    "    def transform(self, X, **transform_params):\n",
    "        stop = set(stopwords.words('english'))\n",
    "        return pd.Series(X.apply(lambda x: ' '.join([token for token in x if token not in stop])))\n",
    "    def fit(self, X, y=None, **fit_params):\n",
    "        return self"
   ]
  },
  {
   "cell_type": "markdown",
   "metadata": {},
   "source": [
    "## LOAD MODELS"
   ]
  },
  {
   "cell_type": "code",
   "execution_count": 71,
   "metadata": {
    "collapsed": false
   },
   "outputs": [],
   "source": [
    "with open('models/MODEL_XG_Boost_Product_Long_Description.plk','rb') as f:\n",
    "    XGB_MODEL_PLD = pickle.load(f)\n",
    "    \n",
    "with open('models/MODEL_XG_Boost_Product_Name.plk','rb') as f:\n",
    "    XGB_MODEL_PN = pickle.load(f)"
   ]
  },
  {
   "cell_type": "markdown",
   "metadata": {},
   "source": [
    "## LOAD TEST SET"
   ]
  },
  {
   "cell_type": "code",
   "execution_count": 109,
   "metadata": {
    "collapsed": false
   },
   "outputs": [
    {
     "data": {
      "text/html": [
       "<div>\n",
       "<table border=\"1\" class=\"dataframe\">\n",
       "  <thead>\n",
       "    <tr style=\"text-align: right;\">\n",
       "      <th></th>\n",
       "      <th>item_id</th>\n",
       "      <th>Product Long Description</th>\n",
       "      <th>Product Name</th>\n",
       "    </tr>\n",
       "  </thead>\n",
       "  <tbody>\n",
       "    <tr>\n",
       "      <th>0</th>\n",
       "      <td>10593</td>\n",
       "      <td>Universal Flat TV Mount, , For Use With 32 to ...</td>\n",
       "      <td>PEERLESS SUF651 TV Mount, 37-75 in Ultra-Thin,...</td>\n",
       "    </tr>\n",
       "    <tr>\n",
       "      <th>1</th>\n",
       "      <td>10594</td>\n",
       "      <td>&lt;ul&gt;&lt;li&gt;Lots of plastic cable ties with self-l...</td>\n",
       "      <td>100 Pcs Toothed Flexible Marker Cable Zip Wire...</td>\n",
       "    </tr>\n",
       "    <tr>\n",
       "      <th>2</th>\n",
       "      <td>10595</td>\n",
       "      <td>Chris and Erin leave Australia to buy and reno...</td>\n",
       "      <td>House Hunters Renovation: Down Under to Over T...</td>\n",
       "    </tr>\n",
       "    <tr>\n",
       "      <th>3</th>\n",
       "      <td>10596</td>\n",
       "      <td>Tripp Lite Protect It! Three-Outlet Travel-Siz...</td>\n",
       "      <td>TRAVELER3USB Surge Suppressor Notebook 3 Outle...</td>\n",
       "    </tr>\n",
       "    <tr>\n",
       "      <th>4</th>\n",
       "      <td>10597</td>\n",
       "      <td>RapidRun&amp;reg; is designed to be the standard f...</td>\n",
       "      <td>75FT RAPIDRUN RUNNER MULTI-FORMAT CMG</td>\n",
       "    </tr>\n",
       "    <tr>\n",
       "      <th>5</th>\n",
       "      <td>10598</td>\n",
       "      <td>&lt;ul&gt;&lt;li&gt;Louvered Panel, H 19 In, L 18 In, Gray...</td>\n",
       "      <td>Akro-Mils 30618230SC Louvered Panel Wall-Mount...</td>\n",
       "    </tr>\n",
       "    <tr>\n",
       "      <th>6</th>\n",
       "      <td>10599</td>\n",
       "      <td>Power Supply, Type Power Supply, Material Stee...</td>\n",
       "      <td>SDC 634RF Power Supply,16 in. L,14 in. W G1877325</td>\n",
       "    </tr>\n",
       "  </tbody>\n",
       "</table>\n",
       "</div>"
      ],
      "text/plain": [
       "   item_id                           Product Long Description  \\\n",
       "0    10593  Universal Flat TV Mount, , For Use With 32 to ...   \n",
       "1    10594  <ul><li>Lots of plastic cable ties with self-l...   \n",
       "2    10595  Chris and Erin leave Australia to buy and reno...   \n",
       "3    10596  Tripp Lite Protect It! Three-Outlet Travel-Siz...   \n",
       "4    10597  RapidRun&reg; is designed to be the standard f...   \n",
       "5    10598  <ul><li>Louvered Panel, H 19 In, L 18 In, Gray...   \n",
       "6    10599  Power Supply, Type Power Supply, Material Stee...   \n",
       "\n",
       "                                        Product Name  \n",
       "0  PEERLESS SUF651 TV Mount, 37-75 in Ultra-Thin,...  \n",
       "1  100 Pcs Toothed Flexible Marker Cable Zip Wire...  \n",
       "2  House Hunters Renovation: Down Under to Over T...  \n",
       "3  TRAVELER3USB Surge Suppressor Notebook 3 Outle...  \n",
       "4              75FT RAPIDRUN RUNNER MULTI-FORMAT CMG  \n",
       "5  Akro-Mils 30618230SC Louvered Panel Wall-Mount...  \n",
       "6  SDC 634RF Power Supply,16 in. L,14 in. W G1877325  "
      ]
     },
     "execution_count": 109,
     "metadata": {},
     "output_type": "execute_result"
    }
   ],
   "source": [
    "df = pd.read_csv('data/test.tsv',sep='\\t')\n",
    "keep = set(['item_id','Product Long Description','Product Name'])\n",
    "drop = set(df.columns) - keep\n",
    "df.drop(drop,axis=1,inplace=True)\n",
    "df.head(7)"
   ]
  },
  {
   "cell_type": "code",
   "execution_count": 110,
   "metadata": {
    "collapsed": false
   },
   "outputs": [
    {
     "data": {
      "text/plain": [
       "(10593, 3)"
      ]
     },
     "execution_count": 110,
     "metadata": {},
     "output_type": "execute_result"
    }
   ],
   "source": [
    "df.shape"
   ]
  },
  {
   "cell_type": "markdown",
   "metadata": {},
   "source": [
    "## REPLACE NaNs"
   ]
  },
  {
   "cell_type": "code",
   "execution_count": 111,
   "metadata": {
    "collapsed": false
   },
   "outputs": [],
   "source": [
    "text = 'This is a super fake text block that I am writing to replace the NaNs. \\\n",
    "I should have account for these 6 NaNs in the test set. Next time, I will account for this!'\n",
    "nan_indx = [2335,4098,6132,8174,9421,10209]\n",
    "labels = ['Product Long Description','Product Name']\n",
    "for label in labels:\n",
    "    for indx in nan_indx:\n",
    "        df.loc[indx,label] = text"
   ]
  },
  {
   "cell_type": "markdown",
   "metadata": {},
   "source": [
    "## GET PREDICTIONS"
   ]
  },
  {
   "cell_type": "code",
   "execution_count": 74,
   "metadata": {
    "collapsed": false
   },
   "outputs": [],
   "source": [
    "X_test1 = df['Product Name']\n",
    "X_test2 = df['Product Long Description']\n",
    "y_pred1 = XGB_MODEL_PN.predict(X_test1)\n",
    "y_pred2 = XGB_MODEL_PLD.predict(X_test2)"
   ]
  },
  {
   "cell_type": "markdown",
   "metadata": {},
   "source": [
    "## ENSEMBLE MODEL PREDICTIONS"
   ]
  },
  {
   "cell_type": "code",
   "execution_count": 113,
   "metadata": {
    "collapsed": false
   },
   "outputs": [],
   "source": [
    "pred_bin = []\n",
    "for indx,ID in enumerate(df.item_id):\n",
    "    if y_pred1[indx] == y_pred2[indx]:\n",
    "        pred = y_pred1[indx]\n",
    "    else:\n",
    "        tag1 = re.findall('\\d+\\d',y_pred1[indx])\n",
    "        tag2 = re.findall('\\d+\\d',y_pred2[indx])\n",
    "        pred = '['+tag1[0]+', '+tag2[0]+']'\n",
    "    pred_bin.append(pred)"
   ]
  },
  {
   "cell_type": "markdown",
   "metadata": {},
   "source": [
    "## SAVE TO TSV"
   ]
  },
  {
   "cell_type": "code",
   "execution_count": 117,
   "metadata": {
    "collapsed": false
   },
   "outputs": [
    {
     "data": {
      "text/html": [
       "<div>\n",
       "<table border=\"1\" class=\"dataframe\">\n",
       "  <thead>\n",
       "    <tr style=\"text-align: right;\">\n",
       "      <th></th>\n",
       "      <th>item_id</th>\n",
       "      <th>tag</th>\n",
       "    </tr>\n",
       "  </thead>\n",
       "  <tbody>\n",
       "    <tr>\n",
       "      <th>0</th>\n",
       "      <td>10593</td>\n",
       "      <td>[581514]</td>\n",
       "    </tr>\n",
       "    <tr>\n",
       "      <th>1</th>\n",
       "      <td>10594</td>\n",
       "      <td>[4537]</td>\n",
       "    </tr>\n",
       "    <tr>\n",
       "      <th>2</th>\n",
       "      <td>10595</td>\n",
       "      <td>[4483]</td>\n",
       "    </tr>\n",
       "    <tr>\n",
       "      <th>3</th>\n",
       "      <td>10596</td>\n",
       "      <td>[4483]</td>\n",
       "    </tr>\n",
       "    <tr>\n",
       "      <th>4</th>\n",
       "      <td>10597</td>\n",
       "      <td>[4483, 4537]</td>\n",
       "    </tr>\n",
       "  </tbody>\n",
       "</table>\n",
       "</div>"
      ],
      "text/plain": [
       "   item_id           tag\n",
       "0    10593      [581514]\n",
       "1    10594        [4537]\n",
       "2    10595        [4483]\n",
       "3    10596        [4483]\n",
       "4    10597  [4483, 4537]"
      ]
     },
     "execution_count": 117,
     "metadata": {},
     "output_type": "execute_result"
    }
   ],
   "source": [
    "d = {}\n",
    "d['item_id'] = list(df.item_id)\n",
    "d['tag'] = pred_bin\n",
    "pred_df = pd.DataFrame(d)\n",
    "pred_df.to_csv('tags.tsv',sep='\\t',index=False)\n",
    "pred_df.head()"
   ]
  },
  {
   "cell_type": "code",
   "execution_count": 120,
   "metadata": {
    "collapsed": false
   },
   "outputs": [
    {
     "data": {
      "text/plain": [
       "[4537]                2427\n",
       "[4483]                1844\n",
       "[581514]               673\n",
       "[529295]               417\n",
       "[95987]                349\n",
       "[1229817]              348\n",
       "[106546]               314\n",
       "[95987, 106546]        268\n",
       "[4483, 4537]           247\n",
       "[1229821]              239\n",
       "[1180168]              230\n",
       "[127175]               229\n",
       "[4537, 4483]           183\n",
       "[4538]                 181\n",
       "[4536]                 146\n",
       "[447913]               138\n",
       "[95987, 522484]        135\n",
       "[522484]               127\n",
       "[650659]                86\n",
       "[1229817, 1229821]      74\n",
       "[1070524]               69\n",
       "[4537, 581514]          58\n",
       "[106546, 4483]          54\n",
       "[581514, 4537]          51\n",
       "[1229821, 1229817]      47\n",
       "[95987, 4483]           41\n",
       "[1229821, 447913]       38\n",
       "[447913, 4483]          38\n",
       "[95987, 447913]         37\n",
       "[447913, 1229821]       33\n",
       "                      ... \n",
       "[4457, 4483]             1\n",
       "[581514, 1229821]        1\n",
       "[95987, 3304195]         1\n",
       "[529295, 4538]           1\n",
       "[4538, 106546]           1\n",
       "[95987, 1229825]         1\n",
       "[5065, 95987]            1\n",
       "[447913, 1180168]        1\n",
       "[1229820, 1225174]       1\n",
       "[1229818, 447913]        1\n",
       "[650659, 1229817]        1\n",
       "[1229821, 1085065]       1\n",
       "[1225174, 4457]          1\n",
       "[1225174, 529295]        1\n",
       "[650659, 4538]           1\n",
       "[4538, 529295]           1\n",
       "[1229817, 4538]          1\n",
       "[1070524, 4536]          1\n",
       "[1225174, 650659]        1\n",
       "[5065, 127175]           1\n",
       "[5065, 1180168]          1\n",
       "[5065, 1229821]          1\n",
       "[648819, 4483]           1\n",
       "[1071165, 581514]        1\n",
       "[522484, 3304195]        1\n",
       "[1229817, 1229818]       1\n",
       "[650659, 1085065]        1\n",
       "[1180168, 4537]          1\n",
       "[1085065, 4538]          1\n",
       "[581514, 95987]          1\n",
       "Name: tag, dtype: int64"
      ]
     },
     "execution_count": 120,
     "metadata": {},
     "output_type": "execute_result"
    }
   ],
   "source": [
    "pred_df.tag.value_counts()"
   ]
  }
 ],
 "metadata": {
  "kernelspec": {
   "display_name": "Python [Root]",
   "language": "python",
   "name": "Python [Root]"
  },
  "language_info": {
   "codemirror_mode": {
    "name": "ipython",
    "version": 2
   },
   "file_extension": ".py",
   "mimetype": "text/x-python",
   "name": "python",
   "nbconvert_exporter": "python",
   "pygments_lexer": "ipython2",
   "version": "2.7.12"
  }
 },
 "nbformat": 4,
 "nbformat_minor": 0
}
