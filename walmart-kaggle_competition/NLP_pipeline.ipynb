{
 "cells": [
  {
   "cell_type": "markdown",
   "metadata": {},
   "source": [
    "# PIPELINE"
   ]
  },
  {
   "cell_type": "code",
   "execution_count": 1,
   "metadata": {
    "collapsed": false
   },
   "outputs": [],
   "source": [
    "from sklearn.metrics import classification_report, confusion_matrix, accuracy_score, f1_score\n",
    "from sklearn.feature_extraction.text import CountVectorizer, TfidfVectorizer\n",
    "from sklearn.pipeline import make_pipeline, make_union\n",
    "from sklearn.cross_validation import train_test_split\n",
    "from sklearn.decomposition import TruncatedSVD\n",
    "from sklearn.base import TransformerMixin\n",
    "\n",
    "from sklearn.ensemble import RandomForestClassifier\n",
    "from sklearn.naive_bayes import GaussianNB\n",
    "from xgboost import XGBClassifier\n",
    "\n",
    "from nltk.stem.wordnet import WordNetLemmatizer\n",
    "from nltk.tokenize import word_tokenize\n",
    "from nltk.corpus import stopwords\n",
    "\n",
    "import matplotlib.pyplot as plt\n",
    "from time import time\n",
    "import pandas as pd\n",
    "import numpy as np\n",
    "import warnings\n",
    "import pickle\n",
    "import re\n",
    "\n",
    "% matplotlib inline\n",
    "# nltk.download_gui()\n",
    "warnings.filterwarnings('ignore')"
   ]
  },
  {
   "cell_type": "markdown",
   "metadata": {},
   "source": [
    "## LOAD TRAINING DATA"
   ]
  },
  {
   "cell_type": "code",
   "execution_count": 2,
   "metadata": {
    "collapsed": false
   },
   "outputs": [
    {
     "data": {
      "text/html": [
       "<div>\n",
       "<table border=\"1\" class=\"dataframe\">\n",
       "  <thead>\n",
       "    <tr style=\"text-align: right;\">\n",
       "      <th></th>\n",
       "      <th>Product Long Description</th>\n",
       "      <th>Product Name</th>\n",
       "      <th>tag</th>\n",
       "    </tr>\n",
       "  </thead>\n",
       "  <tbody>\n",
       "    <tr>\n",
       "      <th>0</th>\n",
       "      <td>&lt;b&gt;Interfaces/Ports&lt;/b&gt;&lt;li&gt;Network (RJ-45):   ...</td>\n",
       "      <td>Cyberpower Metered ATS PDU 200-240V 20A 1U 10-...</td>\n",
       "      <td>[4483]</td>\n",
       "    </tr>\n",
       "    <tr>\n",
       "      <th>1</th>\n",
       "      <td>General InformationThe SmartMount&amp;reg; Univers...</td>\n",
       "      <td>Peerless SmartMount SF650P Universal Flat Wall...</td>\n",
       "      <td>[581514]</td>\n",
       "    </tr>\n",
       "    <tr>\n",
       "      <th>2</th>\n",
       "      <td>Control Transformer, VA Rating 50VA, Input Vol...</td>\n",
       "      <td>DAYTON 31EH66 Control Transformer Fused,4.02H ...</td>\n",
       "      <td>[4483]</td>\n",
       "    </tr>\n",
       "    <tr>\n",
       "      <th>3</th>\n",
       "      <td>&lt;b&gt;General Information&lt;/b&gt;&lt;li&gt;Product Type:   ...</td>\n",
       "      <td>STEREN-CUSTOM INSTALL 255-047 STEREN MINI TO R...</td>\n",
       "      <td>[4537]</td>\n",
       "    </tr>\n",
       "    <tr>\n",
       "      <th>5</th>\n",
       "      <td>Features- Transformer Ground Connectors are us...</td>\n",
       "      <td>Morris 91902 Transformer Ground Connector</td>\n",
       "      <td>[4537]</td>\n",
       "    </tr>\n",
       "  </tbody>\n",
       "</table>\n",
       "</div>"
      ],
      "text/plain": [
       "                            Product Long Description  \\\n",
       "0  <b>Interfaces/Ports</b><li>Network (RJ-45):   ...   \n",
       "1  General InformationThe SmartMount&reg; Univers...   \n",
       "2  Control Transformer, VA Rating 50VA, Input Vol...   \n",
       "3  <b>General Information</b><li>Product Type:   ...   \n",
       "5  Features- Transformer Ground Connectors are us...   \n",
       "\n",
       "                                        Product Name       tag  \n",
       "0  Cyberpower Metered ATS PDU 200-240V 20A 1U 10-...    [4483]  \n",
       "1  Peerless SmartMount SF650P Universal Flat Wall...  [581514]  \n",
       "2  DAYTON 31EH66 Control Transformer Fused,4.02H ...    [4483]  \n",
       "3  STEREN-CUSTOM INSTALL 255-047 STEREN MINI TO R...    [4537]  \n",
       "5          Morris 91902 Transformer Ground Connector    [4537]  "
      ]
     },
     "execution_count": 2,
     "metadata": {},
     "output_type": "execute_result"
    }
   ],
   "source": [
    "df = pd.read_csv('data/train.tsv',sep='\\t')\n",
    "keep = set(['Product Long Description','Product Name','tag'])\n",
    "drop = set(df.columns) - keep\n",
    "df.drop(drop,axis=1,inplace=True)\n",
    "\n",
    "old_indx = [5674,7689,10559]\n",
    "for indx in old_indx:\n",
    "    df.loc[indx,'tag'] = '[1229823]'\n",
    "# 5674 [1229821, 1229823, 1229818] \n",
    "# 7689 [1229817, 1229823, 1229821] \n",
    "# 10559 [1229821, 1229823, 1180168, 1229818]\n",
    "\n",
    "## keep samples w/ ONLY single tag \n",
    "drop_indices = []\n",
    "pattern = r'1229823'\n",
    "for index,tag in enumerate(df.tag):\n",
    "    temp = tag.split(',')\n",
    "    if len(temp)>1:\n",
    "        drop_indices.append(index)\n",
    "df.drop(df.index[drop_indices],inplace=True)\n",
    "\n",
    "# drop samples w/ NaN values\n",
    "df.dropna(inplace=True)\n",
    "df.head(5)"
   ]
  },
  {
   "cell_type": "markdown",
   "metadata": {},
   "source": [
    "## Double Check number of tags and their respective amount"
   ]
  },
  {
   "cell_type": "code",
   "execution_count": 3,
   "metadata": {
    "collapsed": false
   },
   "outputs": [
    {
     "name": "stdout",
     "output_type": "stream",
     "text": [
      "# tags:32\n",
      "[4537]       2667\n",
      "[4483]       2002\n",
      "[581514]      730\n",
      "[529295]      513\n",
      "[95987]       401\n",
      "[106546]      388\n",
      "[447913]      379\n",
      "[4538]        244\n",
      "[127175]      241\n",
      "[4536]        220\n",
      "[1229821]     201\n",
      "[650659]      189\n",
      "[1180168]     175\n",
      "[522484]      169\n",
      "[1229817]     154\n",
      "[1070524]     146\n",
      "[5065]         80\n",
      "[1071165]      49\n",
      "[1225174]      47\n",
      "[1085065]      47\n",
      "[1229820]      23\n",
      "[62056]        22\n",
      "[1084835]      21\n",
      "[3304195]      21\n",
      "[4457]         19\n",
      "[1229819]      18\n",
      "[1229825]      13\n",
      "[648819]        6\n",
      "[1229818]       4\n",
      "[133270]        3\n",
      "[645319]        3\n",
      "[1229823]       3\n",
      "Name: tag, dtype: int64\n"
     ]
    }
   ],
   "source": [
    "print '# tags:{}'.format(len(df.tag.value_counts()))\n",
    "print df.tag.value_counts()"
   ]
  },
  {
   "cell_type": "markdown",
   "metadata": {},
   "source": [
    "## TRANSFORMERS"
   ]
  },
  {
   "cell_type": "code",
   "execution_count": 4,
   "metadata": {
    "collapsed": false
   },
   "outputs": [],
   "source": [
    "class HtmlTransformer(TransformerMixin):\n",
    "    def transform(self, X, **transform_params):\n",
    "        cleaner = re.compile(r'<.*?>')\n",
    "        return pd.Series(X.apply(lambda x: re.sub(cleaner,' ',x)))\n",
    "    def fit(self, X, y=None, **fit_params):\n",
    "        return self\n",
    "    \n",
    "class RemoveCamelCaseTransformer(TransformerMixin):\n",
    "    def transform(self, X, **transform_params):\n",
    "        return pd.Series(X.apply(lambda x: re.sub(r'([a-z](?=[A-Z])|[A-Z](?=[A-Z][a-z]))', r'\\1 ',x)))\n",
    "    def fit(self, X, y=None, **fit_params):\n",
    "        return self\n",
    "\n",
    "class RemoveSymsTransformer(TransformerMixin):\n",
    "    def transform(self, X, **transform_params):\n",
    "        return pd.Series(X.apply(lambda x: re.sub(re.compile(r'[^A-za-z0-9\\s\\.]'),' ',x)))\n",
    "    def fit(self, X, y=None, **fit_params):\n",
    "        return self\n",
    "\n",
    "class TokenizeTransformer(TransformerMixin):\n",
    "    def transform(self, X, **transform_params):\n",
    "        return pd.Series(X.apply(lambda x:word_tokenize(x)))\n",
    "    def fit(self, X, y=None, **fit_params):\n",
    "        return self\n",
    "\n",
    "# class GetSerialCodesTransformer(TransformerMixin):\n",
    "#     def transform(self, X, **transform_params):\n",
    "#         return pd.Series(X.apply(lambda x: re.findall(r'[A-Z]+[A-Z0-9]+[A-Za-z0-9]*[^A-za-z0-9\\s]*[A-Z0-9]+',x)))        \n",
    "#     def fit(self, X, y=None, **fit_params):\n",
    "#         return self\n",
    "\n",
    "class LemmatizeTransformer(TransformerMixin):\n",
    "    def transform(self, X, **transform_params):\n",
    "        lmtzr = WordNetLemmatizer()\n",
    "        return pd.Series(X.apply(lambda x:[lmtzr.lemmatize(token.lower()) for token in x]))\n",
    "    def fit(self, X, y=None, **fit_params):\n",
    "        return self\n",
    "\n",
    "class RemoveStopWordsTransformer(TransformerMixin):\n",
    "    def transform(self, X, **transform_params):\n",
    "        stop = set(stopwords.words('english'))\n",
    "        return pd.Series(X.apply(lambda x: ' '.join([token for token in x if token not in stop])))\n",
    "    def fit(self, X, y=None, **fit_params):\n",
    "        return self"
   ]
  },
  {
   "cell_type": "markdown",
   "metadata": {},
   "source": [
    "## View SVD's explained variance ratio over n_components"
   ]
  },
  {
   "cell_type": "code",
   "execution_count": 5,
   "metadata": {
    "collapsed": false
   },
   "outputs": [
    {
     "data": {
      "image/png": "[encoded data removed]",
      "text/plain": [
       "<matplotlib.figure.Figure at 0x103efc890>"
      ]
     },
     "metadata": {},
     "output_type": "display_data"
    }
   ],
   "source": [
    "X = df['Product Long Description']\n",
    "t1 = HtmlTransformer().fit_transform(X)\n",
    "t2 = RemoveCamelCaseTransformer().fit_transform(t1)\n",
    "t3 = RemoveSymsTransformer().fit_transform(t2)\n",
    "t4 = TokenizeTransformer().fit_transform(t3)\n",
    "t5 = LemmatizeTransformer().fit_transform(t4)\n",
    "t6 = RemoveStopWordsTransformer().fit_transform(t5)\n",
    "t7 = TfidfVectorizer().fit_transform(t6)\n",
    "SVD = TruncatedSVD(100)\n",
    "t8 = SVD.fit_transform(t7)\n",
    "plt.figure(figsize=(15,7))\n",
    "plt.scatter(x=range(1,101),y=SVD.explained_variance_ratio_)\n",
    "plt.title('SVD')\n",
    "plt.xlabel('n_components')\n",
    "plt.ylabel('explained_variance_ratio')\n",
    "plt.grid(True)    \n",
    "plt.show()"
   ]
  },
  {
   "cell_type": "markdown",
   "metadata": {},
   "source": [
    "## Check to see if all tags are in train(90%) and test(10%) set"
   ]
  },
  {
   "cell_type": "code",
   "execution_count": 6,
   "metadata": {
    "collapsed": false,
    "scrolled": true
   },
   "outputs": [
    {
     "name": "stdout",
     "output_type": "stream",
     "text": [
      "Choose this random state: 59\n",
      "total unique tags ==> 32\n",
      "(train) unique tags ==> 32\n",
      "(test) unique tags ==> 32\n"
     ]
    }
   ],
   "source": [
    "for i in range(1,100):\n",
    "    X = df['Product Long Description']\n",
    "    y = df['tag']\n",
    "    X_train,X_test,y_train,y_test = train_test_split(X,y,test_size=0.1,random_state=i)\n",
    "    if len(y_train.unique()) == len(y_test.unique()):\n",
    "        print 'Choose this random state: {}'.format(i)\n",
    "        print 'total unique tags ==> {}'.format(len(y.unique()))\n",
    "        print '(train) unique tags ==> {}'.format(len(y_train.unique()))\n",
    "        print '(test) unique tags ==> {}'.format(len(y_test.unique()))"
   ]
  },
  {
   "cell_type": "markdown",
   "metadata": {},
   "source": [
    "## MACHINE LEARNING ALGORITHMS\n",
    "\n",
    "Naive Bayes and Random Forest did substantially worse than XG Boost. Therefore, I opted to use only XG Boost and tune the parameters (depth, learning rate, and number of trees) for an optimal score."
   ]
  },
  {
   "cell_type": "code",
   "execution_count": 7,
   "metadata": {
    "collapsed": true
   },
   "outputs": [],
   "source": [
    "models = {}\n",
    "# models['Naive_Bayes'] = GaussianNB()\n",
    "# models['Random_Forest'] = RandomForestClassifier(random_state=42)\n",
    "models['XG_Boost'] = XGBClassifier(max_depth=5, n_estimators=500, learning_rate=0.05) "
   ]
  },
  {
   "cell_type": "markdown",
   "metadata": {},
   "source": [
    "## TRAIN MODELS\n",
    "\n",
    "Here I trained two models. Both using Gradient Boosting Classifier (XG Boost) algorithm, but trained on \"product name\" and \"product long description\", respectively. "
   ]
  },
  {
   "cell_type": "code",
   "execution_count": 9,
   "metadata": {
    "collapsed": false,
    "scrolled": false
   },
   "outputs": [
    {
     "name": "stdout",
     "output_type": "stream",
     "text": [
      "#################################################################################\n",
      "#################################################################################\n",
      "MODEL: XG_Boost \t TIME: 731.497154951 \t LABEL: Product Name\n",
      "\n",
      "             precision    recall  f1-score   support\n",
      "\n",
      "   [106546]       0.79      0.61      0.69        36\n",
      "  [1070524]       0.20      0.22      0.21         9\n",
      "  [1071165]       1.00      0.29      0.44         7\n",
      "  [1084835]       0.50      0.25      0.33         4\n",
      "  [1085065]       0.50      1.00      0.67         1\n",
      "  [1180168]       0.93      0.88      0.90        16\n",
      "  [1225174]       1.00      0.40      0.57         5\n",
      "  [1229817]       0.56      0.75      0.64        12\n",
      "  [1229818]       1.00      0.50      0.67         2\n",
      "  [1229819]       0.00      0.00      0.00         5\n",
      "  [1229820]       1.00      1.00      1.00         2\n",
      "  [1229821]       0.69      1.00      0.82        20\n",
      "  [1229823]       0.00      0.00      0.00         1\n",
      "  [1229825]       0.00      0.00      0.00         5\n",
      "   [127175]       0.79      0.79      0.79        28\n",
      "   [133270]       0.00      0.00      0.00         1\n",
      "  [3304195]       0.00      0.00      0.00         1\n",
      "     [4457]       0.00      0.00      0.00         2\n",
      "   [447913]       0.37      0.30      0.33        37\n",
      "     [4483]       0.82      0.92      0.87       199\n",
      "     [4536]       0.80      0.73      0.76        22\n",
      "     [4537]       0.85      0.88      0.86       269\n",
      "     [4538]       1.00      0.86      0.92        21\n",
      "     [5065]       0.83      0.71      0.77         7\n",
      "   [522484]       0.62      0.56      0.59        18\n",
      "   [529295]       0.89      0.91      0.90        54\n",
      "   [581514]       0.77      0.80      0.79        69\n",
      "    [62056]       0.00      0.00      0.00         2\n",
      "   [645319]       0.00      0.00      0.00         1\n",
      "   [648819]       1.00      1.00      1.00         1\n",
      "   [650659]       1.00      0.60      0.75        20\n",
      "    [95987]       0.65      0.74      0.70        43\n",
      "\n",
      "avg / total       0.78      0.79      0.78       920\n",
      "\n",
      "\n",
      "[[22  1  0 ...,  0  0  4]\n",
      " [ 0  2  0 ...,  0  0  0]\n",
      " [ 0  1  2 ...,  0  0  0]\n",
      " ..., \n",
      " [ 0  0  0 ...,  1  0  0]\n",
      " [ 0  0  0 ...,  0 12  0]\n",
      " [ 1  0  0 ...,  0  0 32]]\n",
      "\n",
      "ACCURACY SCORE: 0.790217391304\n",
      "\n",
      "F1 SCORE: 0.778482491308\n",
      "\n",
      "#################################################################################\n",
      "#################################################################################\n",
      "MODEL: XG_Boost \t TIME: 1519.29808116 \t LABEL: Product Long Description\n",
      "\n",
      "             precision    recall  f1-score   support\n",
      "\n",
      "   [106546]       0.71      0.56      0.63        36\n",
      "  [1070524]       0.09      0.11      0.10         9\n",
      "  [1071165]       0.00      0.00      0.00         7\n",
      "  [1084835]       0.67      0.50      0.57         4\n",
      "  [1085065]       0.25      1.00      0.40         1\n",
      "  [1180168]       0.94      1.00      0.97        16\n",
      "  [1225174]       0.25      0.20      0.22         5\n",
      "  [1229817]       0.60      0.75      0.67        12\n",
      "  [1229818]       1.00      0.50      0.67         2\n",
      "  [1229819]       0.00      0.00      0.00         5\n",
      "  [1229820]       1.00      1.00      1.00         2\n",
      "  [1229821]       0.73      0.80      0.76        20\n",
      "  [1229823]       0.00      0.00      0.00         1\n",
      "  [1229825]       0.00      0.00      0.00         5\n",
      "   [127175]       0.77      0.71      0.74        28\n",
      "   [133270]       0.00      0.00      0.00         1\n",
      "  [3304195]       0.50      1.00      0.67         1\n",
      "     [4457]       0.00      0.00      0.00         2\n",
      "   [447913]       0.28      0.22      0.24        37\n",
      "     [4483]       0.77      0.85      0.81       199\n",
      "     [4536]       0.68      0.68      0.68        22\n",
      "     [4537]       0.82      0.84      0.83       269\n",
      "     [4538]       0.71      0.81      0.76        21\n",
      "     [5065]       0.67      0.57      0.62         7\n",
      "   [522484]       0.57      0.67      0.62        18\n",
      "   [529295]       0.86      0.91      0.88        54\n",
      "   [581514]       0.79      0.83      0.81        69\n",
      "    [62056]       0.00      0.00      0.00         2\n",
      "   [645319]       0.00      0.00      0.00         1\n",
      "   [648819]       1.00      1.00      1.00         1\n",
      "   [650659]       0.91      0.50      0.65        20\n",
      "    [95987]       0.70      0.72      0.71        43\n",
      "\n",
      "avg / total       0.73      0.75      0.74       920\n",
      "\n",
      "\n",
      "[[20  3  0 ...,  0  1  0]\n",
      " [ 0  1  0 ...,  0  0  0]\n",
      " [ 1  2  0 ...,  0  0  0]\n",
      " ..., \n",
      " [ 0  0  0 ...,  1  0  0]\n",
      " [ 0  0  0 ...,  0 10  0]\n",
      " [ 0  0  0 ...,  0  0 31]]\n",
      "\n",
      "ACCURACY SCORE: 0.751086956522\n",
      "\n",
      "F1 SCORE: 0.738153529742\n",
      "\n"
     ]
    }
   ],
   "source": [
    "start = time()\n",
    "labels = ['Product Name','Product Long Description']\n",
    "for label in labels:\n",
    "    X = df[label]\n",
    "    y = df['tag']\n",
    "    X_train,X_test,y_train,y_test = train_test_split(X,y,test_size=0.1,random_state=59)\n",
    "    if len(y_train.unique())!=32 and len(y_test.unique())!=32:\n",
    "        print '###########################################################'        \n",
    "        print '############### NOT BALANCED!!! NOOOOOO!!! ################'\n",
    "        print '###########################################################'        \n",
    "        print 'LABEL:{} \\t num_train_tags:{} \\t num_test_tags:{}'.format(label,\n",
    "                                                                         len(y_train.unique()),\n",
    "                                                                         len(y_test.unique())) \n",
    "    for name,model in models.items(): \n",
    "        PIPELINE = make_pipeline(HtmlTransformer(),\n",
    "                                 RemoveCamelCaseTransformer(),\n",
    "                                 RemoveSymsTransformer(),\n",
    "                                 TokenizeTransformer(),\n",
    "                                 LemmatizeTransformer(),\n",
    "                                 RemoveStopWordsTransformer(),\n",
    "                                 TfidfVectorizer(),\n",
    "                                 TruncatedSVD(100),\n",
    "                                model)\n",
    "        results = PIPELINE.fit(X_train,y_train)\n",
    "        y_pred  = results.predict(X_test)\n",
    "        report  = classification_report(y_test,y_pred)\n",
    "        con_mat = confusion_matrix(y_test,y_pred)\n",
    "        acc_sc  = accuracy_score(y_test,y_pred)\n",
    "        f1_sc   = f1_score(y_test,y_pred)\n",
    "        with open('models/MODEL_{}_{}.plk'.format(name,label),'wb') as f:\n",
    "            pickle.dump(results,f)\n",
    "        print '#################################################################################'\n",
    "        print '#################################################################################'\n",
    "        print 'MODEL: {} \\t TIME: {} \\t LABEL: {}'.format(name,time()-start,label)\n",
    "        print \n",
    "        print report\n",
    "        print \n",
    "        print con_mat \n",
    "        print\n",
    "        print 'ACCURACY SCORE: {}'.format(acc_sc)\n",
    "        print \n",
    "        print 'F1 SCORE: {}'.format(f1_sc)\n",
    "        print "
   ]
  },
  {
   "cell_type": "code",
   "execution_count": null,
   "metadata": {
    "collapsed": true
   },
   "outputs": [],
   "source": [
    "# models = {}\n",
    "# models['Product Name']  = XGB_MODEL_PN\n",
    "# models['Product Long Description'] = XGB_MODEL_PLD\n",
    "\n",
    "# with open('models/MODEL_XG_Boost_Product_Long_Description.plk','rb') as f:\n",
    "#     XGB_MODEL_PLD = pickle.load(f)\n",
    "    \n",
    "# with open('models/MODEL_XG_Boost_Product_Name.plk','rb') as f:\n",
    "#     XGB_MODEL_PN = pickle.load(f)\n",
    "# fig,axs = plt.subplots(nrows=len(models),ncols=2)\n",
    "# fig.set_figwidth(15)\n",
    "# fig.set_figheight(10)                       \n",
    "# for name,model in models.items():\n",
    "#     if name == 'Product_Name':\n",
    "#         X_test = X1\n",
    "#         y_test = \n",
    "#     y_pred = model.predict(X_test)\n",
    "#     y_pred_probs = results.predict_proba(X_test)\n",
    "#     score = accuracy_score(y_test,y_pred)\n",
    "    \n",
    "#     precision,recall,threshold_PR = precision_recall_curve(y_test,y_pred_probs[:,1],pos_label=1)\n",
    "#     fpr,tpr,threshold_ROC = roc_curve(y_test,y_pred_probs[:,1],pos_label=1)\n",
    "#     AUC = auc(fpr,tpr)\n",
    "    \n",
    "#     print '############################## MODEL:{} ##############################'.format(name)\n",
    "#     print 'AUC: {}'.format(AUC)\n",
    "#     report = classification_report(y_test,y_pred)\n",
    "#     con_mat = confusion_matrix(y_test,y_pred)\n",
    "#     i+=1\n",
    "#     ax = axs[-1+i,0]\n",
    "#     ax.plot(recall,precision)\n",
    "#     ax.set_title('Precision-Recall')\n",
    "#     ax.set_xlabel('Recall')\n",
    "#     ax.set_ylabel('Precision')\n",
    "#     ax.grid(True)\n",
    "#     ax = axs[-1+i,1]\n",
    "#     ax.plot(fpr,tpr)\n",
    "#     ax.set_title('ROC Curve')\n",
    "#     ax.set_xlabel('False Positive Rate')\n",
    "#     ax.set_ylabel('True Positive Rate')\n",
    "#     ax.grid(True)"
   ]
  }
 ],
 "metadata": {
  "anaconda-cloud": {},
  "kernelspec": {
   "display_name": "Python [Root]",
   "language": "python",
   "name": "Python [Root]"
  },
  "language_info": {
   "codemirror_mode": {
    "name": "ipython",
    "version": 2
   },
   "file_extension": ".py",
   "mimetype": "text/x-python",
   "name": "python",
   "nbconvert_exporter": "python",
   "pygments_lexer": "ipython2",
   "version": "2.7.12"
  }
 },
 "nbformat": 4,
 "nbformat_minor": 0
}
