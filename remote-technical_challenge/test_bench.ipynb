{
 "cells": [
  {
   "cell_type": "code",
   "execution_count": 4,
   "metadata": {
    "collapsed": true
   },
   "outputs": [],
   "source": [
    "from elasticsearch import Elasticsearch\n",
    "from random import randint"
   ]
  },
  {
   "cell_type": "code",
   "execution_count": 60,
   "metadata": {
    "collapsed": true
   },
   "outputs": [],
   "source": [
    "es = Elasticsearch([{'host': 'localhost', 'port': 9200}], http_auth=('xxxxxxx', 'xxxxxxxxx'))"
   ]
  },
  {
   "cell_type": "code",
   "execution_count": null,
   "metadata": {
    "collapsed": true
   },
   "outputs": [],
   "source": [
    "# ~ 6,000,000 companies \n",
    "# ~ 4,000 colleges\n",
    "ratio ==> 1500 companies per one college"
   ]
  },
  {
   "cell_type": "code",
   "execution_count": 6,
   "metadata": {
    "collapsed": false
   },
   "outputs": [
    {
     "data": {
      "text/plain": [
       "1500.0"
      ]
     },
     "execution_count": 6,
     "metadata": {},
     "output_type": "execute_result"
    }
   ],
   "source": [
    "6000000/4000"
   ]
  },
  {
   "cell_type": "code",
   "execution_count": 61,
   "metadata": {
    "collapsed": false
   },
   "outputs": [],
   "source": [
    "doc = {'email':'name_'+str(i)+'@email.com',\n",
    "       'number': randint(1,100),\n",
    "       'company': 'company_'+str(randint(1,100)),\n",
    "       'school': 'school_'+str(randint(1,10))}\n",
    "res = es.index(index=\"test-index\", doc_type='tweet', body=doc)"
   ]
  },
  {
   "cell_type": "code",
   "execution_count": 122,
   "metadata": {
    "collapsed": false
   },
   "outputs": [
    {
     "data": {
      "text/plain": [
       "2000000"
      ]
     },
     "execution_count": 122,
     "metadata": {},
     "output_type": "execute_result"
    }
   ],
   "source": [
    "es.count(index='users')['count']"
   ]
  },
  {
   "cell_type": "markdown",
   "metadata": {},
   "source": [
    "## POST (adding new user)"
   ]
  },
  {
   "cell_type": "code",
   "execution_count": 87,
   "metadata": {
    "collapsed": false
   },
   "outputs": [
    {
     "name": "stdout",
     "output_type": "stream",
     "text": [
      "Please fill out the following information.\n",
      "email: fds\n",
      "number: 129394\n",
      "company: dklfdj\n",
      "school: dfsd\n",
      "{'number': 129394, 'company': 'dklfdj', 'school': 'dfsd', 'email': 'fds'}\n"
     ]
    }
   ],
   "source": [
    "def add_user():\n",
    "    # Can also implement request.json\n",
    "    print('Please fill out the following information.')\n",
    "    email = input('email: ')\n",
    "    number = input('number: ')\n",
    "    company = input('company: ')\n",
    "    school = input('school: ')\n",
    "    doc = {'email': email,\n",
    "           'number': int(number),\n",
    "           'company': company,\n",
    "           'school': school}\n",
    "#es.index(index='users',doc_type='people',id=es.count(index='users')['count']+1,body=doc)\n",
    "add_user()"
   ]
  },
  {
   "cell_type": "markdown",
   "metadata": {},
   "source": [
    "## DELETE (delete existing user)"
   ]
  },
  {
   "cell_type": "code",
   "execution_count": 103,
   "metadata": {
    "collapsed": false
   },
   "outputs": [
    {
     "name": "stdout",
     "output_type": "stream",
     "text": [
      "###########################################\n",
      "################# WARNING #################\n",
      "###########################################\n",
      "You are about to delete a user from Remote.\n",
      " \n",
      "Do you wish to continue? Y/N y\n",
      "Enter user ID: 24039\n",
      "You have removed 24039 from Remote.com. :(\n"
     ]
    }
   ],
   "source": [
    "def delete_user():\n",
    "    # Delete user based off ID in the users index\n",
    "    print('###########################################')\n",
    "    print('################# WARNING #################')\n",
    "    print('###########################################')\n",
    "    print('You are about to delete a user from Remote.')\n",
    "    print(' ')\n",
    "    answer = input('Do you wish to continue? Y/N ')\n",
    "    if answer.upper() == 'Y':\n",
    "        user_id = input('Enter user ID: ')\n",
    "#         es.delete(index='users',doc_type='people',id=int(user_id))\n",
    "        print('You have removed %s from Remote.com. :(' % user_id)\n",
    "    else:\n",
    "        pass\n",
    "delete_user()"
   ]
  },
  {
   "cell_type": "markdown",
   "metadata": {},
   "source": [
    "## PUT (update user)"
   ]
  },
  {
   "cell_type": "code",
   "execution_count": 121,
   "metadata": {
    "collapsed": false
   },
   "outputs": [
    {
     "name": "stdout",
     "output_type": "stream",
     "text": [
      "You are about to update a user's information.\n",
      " \n",
      "Do you wish to continue? Y/N n\n"
     ]
    }
   ],
   "source": [
    "def update_user():\n",
    "    print('You are about to update a user\\'s information.')\n",
    "    print(' ')\n",
    "    answer = input('Do you wish to continue? Y/N ')\n",
    "    if answer.upper() == 'Y':\n",
    "        user_id = input('Enter user id: ')\n",
    "        print('Please update the following information.')\n",
    "        email = input('email: ')\n",
    "        number = input('number: ')\n",
    "        company = input('company: ')\n",
    "        school = input('school: ')\n",
    "        doc = {'email': email,\n",
    "           'number': int(number),\n",
    "           'company': company,\n",
    "           'school': school}\n",
    "#         es.index(index, doc_type, body, id=user_id)\n",
    "#         return jsonify({'Update': True})\n",
    "    else:\n",
    "        pass\n",
    "#         return jsonify({'Update': False})\n",
    "update_user()"
   ]
  },
  {
   "cell_type": "markdown",
   "metadata": {},
   "source": [
    "## GET (view user info)"
   ]
  },
  {
   "cell_type": "code",
   "execution_count": null,
   "metadata": {
    "collapsed": true
   },
   "outputs": [],
   "source": [
    "def get_user_info():\n",
    "    user_id = input('Enter user id: ')\n",
    "    return jsonify(es.search(index='users',body={'query': {'match': {'_id':user_id}}})['hits']['hits'][0]['_source'])"
   ]
  },
  {
   "cell_type": "code",
   "execution_count": 128,
   "metadata": {
    "collapsed": false
   },
   "outputs": [
    {
     "data": {
      "text/plain": [
       "{'company': 'company_5836',\n",
       " 'email': 'name_2600@email.com',\n",
       " 'number': 986,\n",
       " 'school': 'school_287'}"
      ]
     },
     "execution_count": 128,
     "metadata": {},
     "output_type": "execute_result"
    }
   ],
   "source": [
    "es.search(index='users',body={'query': {'match': {'_id':'2600'}}})['hits']['hits'][0]['_source']"
   ]
  },
  {
   "cell_type": "code",
   "execution_count": 117,
   "metadata": {
    "collapsed": false
   },
   "outputs": [
    {
     "name": "stdout",
     "output_type": "stream",
     "text": [
      "{'_score': 1.0, '_source': {'number': 986, 'email': 'name_2600@email.com', 'school': 'school_287', 'company': 'company_5836'}, '_id': '2600', '_type': 'people', '_index': 'users'}\n"
     ]
    }
   ],
   "source": [
    "user = es.search(index='users',body={'query': {'match': {'_id':'2600'}}})['hits']['hits'][0]\n",
    "print(user)"
   ]
  },
  {
   "cell_type": "code",
   "execution_count": 131,
   "metadata": {
    "collapsed": false
   },
   "outputs": [
    {
     "data": {
      "text/plain": [
       "{'_shards': {'failed': 0, 'successful': 5, 'total': 5},\n",
       " 'hits': {'hits': [{'_id': '16070',\n",
       "    '_index': 'users',\n",
       "    '_score': 9.302847,\n",
       "    '_source': {'company': 'company_100',\n",
       "     'email': 'name_16070@email.com',\n",
       "     'number': 4555,\n",
       "     'school': 'school_896'},\n",
       "    '_type': 'people'},\n",
       "   {'_id': '25640',\n",
       "    '_index': 'users',\n",
       "    '_score': 9.302847,\n",
       "    '_source': {'company': 'company_100',\n",
       "     'email': 'name_25640@email.com',\n",
       "     'number': 4083,\n",
       "     'school': 'school_55'},\n",
       "    '_type': 'people'},\n",
       "   {'_id': '33656',\n",
       "    '_index': 'users',\n",
       "    '_score': 9.302847,\n",
       "    '_source': {'company': 'company_100',\n",
       "     'email': 'name_33656@email.com',\n",
       "     'number': 6642,\n",
       "     'school': 'school_370'},\n",
       "    '_type': 'people'},\n",
       "   {'_id': '41594',\n",
       "    '_index': 'users',\n",
       "    '_score': 9.302847,\n",
       "    '_source': {'company': 'company_100',\n",
       "     'email': 'name_41594@email.com',\n",
       "     'number': 7192,\n",
       "     'school': 'school_654'},\n",
       "    '_type': 'people'},\n",
       "   {'_id': '180279',\n",
       "    '_index': 'users',\n",
       "    '_score': 9.302847,\n",
       "    '_source': {'company': 'company_100',\n",
       "     'email': 'name_180279@email.com',\n",
       "     'number': 1803,\n",
       "     'school': 'school_158'},\n",
       "    '_type': 'people'},\n",
       "   {'_id': '189027',\n",
       "    '_index': 'users',\n",
       "    '_score': 9.302847,\n",
       "    '_source': {'company': 'company_100',\n",
       "     'email': 'name_189027@email.com',\n",
       "     'number': 3393,\n",
       "     'school': 'school_748'},\n",
       "    '_type': 'people'},\n",
       "   {'_id': '202606',\n",
       "    '_index': 'users',\n",
       "    '_score': 9.302847,\n",
       "    '_source': {'company': 'company_100',\n",
       "     'email': 'name_202606@email.com',\n",
       "     'number': 9737,\n",
       "     'school': 'school_886'},\n",
       "    '_type': 'people'},\n",
       "   {'_id': '237701',\n",
       "    '_index': 'users',\n",
       "    '_score': 9.302847,\n",
       "    '_source': {'company': 'company_100',\n",
       "     'email': 'name_237701@email.com',\n",
       "     'number': 4325,\n",
       "     'school': 'school_919'},\n",
       "    '_type': 'people'},\n",
       "   {'_id': '317737',\n",
       "    '_index': 'users',\n",
       "    '_score': 9.302847,\n",
       "    '_source': {'company': 'company_100',\n",
       "     'email': 'name_317737@email.com',\n",
       "     'number': 9259,\n",
       "     'school': 'school_513'},\n",
       "    '_type': 'people'},\n",
       "   {'_id': '315431',\n",
       "    '_index': 'users',\n",
       "    '_score': 9.302847,\n",
       "    '_source': {'company': 'company_100',\n",
       "     'email': 'name_315431@email.com',\n",
       "     'number': 9838,\n",
       "     'school': 'school_111'},\n",
       "    '_type': 'people'}],\n",
       "  'max_score': 9.302847,\n",
       "  'total': 195},\n",
       " 'timed_out': False,\n",
       " 'took': 9}"
      ]
     },
     "execution_count": 131,
     "metadata": {},
     "output_type": "execute_result"
    }
   ],
   "source": [
    "es.search(index='users',body={'query': {'match': {'company':'company_100'}}})"
   ]
  },
  {
   "cell_type": "markdown",
   "metadata": {},
   "source": [
    "## GET (user's 1st connection)"
   ]
  },
  {
   "cell_type": "code",
   "execution_count": 149,
   "metadata": {
    "collapsed": false
   },
   "outputs": [
    {
     "name": "stdout",
     "output_type": "stream",
     "text": [
      "Enter user id: 100\n"
     ]
    },
    {
     "data": {
      "text/plain": [
       "['50640',\n",
       " '46958',\n",
       " '54872',\n",
       " '920211',\n",
       " '61922',\n",
       " '649661',\n",
       " '37042',\n",
       " '46507',\n",
       " '354142',\n",
       " '70260',\n",
       " '834550',\n",
       " '475258',\n",
       " '40005',\n",
       " '10577',\n",
       " '6257',\n",
       " '1108020',\n",
       " '663234',\n",
       " '332767',\n",
       " '40318',\n",
       " '942818']"
      ]
     },
     "execution_count": 149,
     "metadata": {},
     "output_type": "execute_result"
    }
   ],
   "source": [
    "def user_1st_degree():\n",
    "    user_id = input('Enter user id: ')\n",
    "    user_info = es.search(index='users',body={'query': {'match': {'_id':user_id}}})['hits']['hits'][0]['_source']\n",
    "    coworkers = es.search(index='users',body={'query': {'match': {'company':user_info['company']}}})['hits']['hits']\n",
    "    coworker_ids = [coworker['_id'] for coworker in coworkers]\n",
    "    classmates = es.search(index='users',body={'query': {'match': {'school':user_info['school']}}})['hits']['hits']\n",
    "    classmate_ids = [classmate['_id'] for classmate in classmates]\n",
    "    first_deg_conns = list(set(coworker_ids+classmate_ids))\n",
    "    return first_deg_conns\n",
    "user_1st_degree()"
   ]
  },
  {
   "cell_type": "code",
   "execution_count": 148,
   "metadata": {
    "collapsed": false
   },
   "outputs": [
    {
     "name": "stdout",
     "output_type": "stream",
     "text": [
      "['46958', '54872', '61922', '920211', '37042', '46507', '70260', '354142', '649661', '663234', '834550', '10577', '40005', '332767', '475258', '1108020', '6257', '50640', '40318', '942818']\n"
     ]
    }
   ],
   "source": [
    "coworkers = es.search(index='users',body={'query': {'match': {'company':'company_7092'}}})['hits']['hits']\n",
    "coworker_ids = [coworker['_id'] for coworker in coworkers]\n",
    "# print(coworker_ids)\n",
    "\n",
    "classmates = es.search(index='users',body={'query': {'match': {'school':'school_303'}}})['hits']['hits']\n",
    "classmate_ids = [classmate['_id'] for classmate in classmates]\n",
    "# print(classmate_ids)\n",
    "\n",
    "total = classmate_ids+ coworker_ids\n",
    "print(list(set(total)))"
   ]
  },
  {
   "cell_type": "code",
   "execution_count": 135,
   "metadata": {
    "collapsed": false
   },
   "outputs": [
    {
     "data": {
      "text/plain": [
       "{'_shards': {'failed': 0, 'successful': 5, 'total': 5},\n",
       " 'hits': {'hits': [{'_id': '40005',\n",
       "    '_index': 'users',\n",
       "    '_score': 9.584238,\n",
       "    '_source': {'company': 'company_7092',\n",
       "     'email': 'name_40005@email.com',\n",
       "     'number': 6637,\n",
       "     'school': 'school_882'},\n",
       "    '_type': 'people'},\n",
       "   {'_id': '332767',\n",
       "    '_index': 'users',\n",
       "    '_score': 9.584238,\n",
       "    '_source': {'company': 'company_7092',\n",
       "     'email': 'name_332767@email.com',\n",
       "     'number': 1653,\n",
       "     'school': 'school_911'},\n",
       "    '_type': 'people'},\n",
       "   {'_id': '354142',\n",
       "    '_index': 'users',\n",
       "    '_score': 9.584238,\n",
       "    '_source': {'company': 'company_7092',\n",
       "     'email': 'name_354142@email.com',\n",
       "     'number': 3405,\n",
       "     'school': 'school_446'},\n",
       "    '_type': 'people'},\n",
       "   {'_id': '475258',\n",
       "    '_index': 'users',\n",
       "    '_score': 9.584238,\n",
       "    '_source': {'company': 'company_7092',\n",
       "     'email': 'name_475258@email.com',\n",
       "     'number': 9578,\n",
       "     'school': 'school_849'},\n",
       "    '_type': 'people'},\n",
       "   {'_id': '649661',\n",
       "    '_index': 'users',\n",
       "    '_score': 9.584238,\n",
       "    '_source': {'company': 'company_7092',\n",
       "     'email': 'name_649661@email.com',\n",
       "     'number': 9300,\n",
       "     'school': 'school_132'},\n",
       "    '_type': 'people'},\n",
       "   {'_id': '663234',\n",
       "    '_index': 'users',\n",
       "    '_score': 9.584238,\n",
       "    '_source': {'company': 'company_7092',\n",
       "     'email': 'name_663234@email.com',\n",
       "     'number': 821,\n",
       "     'school': 'school_118'},\n",
       "    '_type': 'people'},\n",
       "   {'_id': '834550',\n",
       "    '_index': 'users',\n",
       "    '_score': 9.584238,\n",
       "    '_source': {'company': 'company_7092',\n",
       "     'email': 'name_834550@email.com',\n",
       "     'number': 8074,\n",
       "     'school': 'school_231'},\n",
       "    '_type': 'people'},\n",
       "   {'_id': '920211',\n",
       "    '_index': 'users',\n",
       "    '_score': 9.584238,\n",
       "    '_source': {'company': 'company_7092',\n",
       "     'email': 'name_920211@email.com',\n",
       "     'number': 8536,\n",
       "     'school': 'school_532'},\n",
       "    '_type': 'people'},\n",
       "   {'_id': '942818',\n",
       "    '_index': 'users',\n",
       "    '_score': 9.584238,\n",
       "    '_source': {'company': 'company_7092',\n",
       "     'email': 'name_942818@email.com',\n",
       "     'number': 4451,\n",
       "     'school': 'school_370'},\n",
       "    '_type': 'people'},\n",
       "   {'_id': '1108020',\n",
       "    '_index': 'users',\n",
       "    '_score': 9.584238,\n",
       "    '_source': {'company': 'company_7092',\n",
       "     'email': 'name_1108020@email.com',\n",
       "     'number': 5391,\n",
       "     'school': 'school_824'},\n",
       "    '_type': 'people'}],\n",
       "  'max_score': 9.584238,\n",
       "  'total': 206},\n",
       " 'timed_out': False,\n",
       " 'took': 16}"
      ]
     },
     "execution_count": 135,
     "metadata": {},
     "output_type": "execute_result"
    }
   ],
   "source": [
    "es.search(index='users',body={'query': {'match': {'company':'company_7092'}}})"
   ]
  },
  {
   "cell_type": "markdown",
   "metadata": {},
   "source": [
    "## GET (user's 2nd degree connections)\n",
    "\n",
    "From your 1st degree connections, get their 1st degree connections...this will yield your 2nd degree connections"
   ]
  },
  {
   "cell_type": "code",
   "execution_count": 162,
   "metadata": {
    "collapsed": false
   },
   "outputs": [
    {
     "name": "stdout",
     "output_type": "stream",
     "text": [
      "Enter user id: 100\n"
     ]
    },
    {
     "data": {
      "text/plain": [
       "219"
      ]
     },
     "execution_count": 162,
     "metadata": {},
     "output_type": "execute_result"
    }
   ],
   "source": [
    "def user_1st_degreex(user_id):\n",
    "    user_info = es.search(index='users',body={'query': {'match': {'_id':user_id}}})['hits']['hits'][0]['_source']\n",
    "    coworkers = es.search(index='users',body={'query': {'match': {'company':user_info['company']}}})['hits']['hits']\n",
    "    coworker_ids = [coworker['_id'] for coworker in coworkers]\n",
    "    classmates = es.search(index='users',body={'query': {'match': {'school':user_info['school']}}})['hits']['hits']\n",
    "    classmate_ids = [classmate['_id'] for classmate in classmates]\n",
    "    first_conns = list(set(coworker_ids+classmate_ids))\n",
    "    return first_conns\n",
    "\n",
    "def user_2nd_degree():\n",
    "    user_id = input('Enter user id: ')\n",
    "    first_conns = user_1st_degree(user_id)\n",
    "    second_conns = []\n",
    "    for conn in first_conns:\n",
    "        second_conns.extend(user_1st_degree(conn))\n",
    "    unique_second_conns = list(set(second_conns))\n",
    "    return unique_second_conns\n",
    "\n",
    "user_2nd_degree()"
   ]
  },
  {
   "cell_type": "code",
   "execution_count": null,
   "metadata": {
    "collapsed": true
   },
   "outputs": [],
   "source": []
  }
 ],
 "metadata": {
  "kernelspec": {
   "display_name": "Python 3",
   "language": "python",
   "name": "python3"
  },
  "language_info": {
   "codemirror_mode": {
    "name": "ipython",
    "version": 3
   },
   "file_extension": ".py",
   "mimetype": "text/x-python",
   "name": "python",
   "nbconvert_exporter": "python",
   "pygments_lexer": "ipython3",
   "version": "3.5.2"
  }
 },
 "nbformat": 4,
 "nbformat_minor": 1
}
