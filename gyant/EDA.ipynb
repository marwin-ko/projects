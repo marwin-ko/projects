{
 "cells": [
  {
   "cell_type": "markdown",
   "metadata": {},
   "source": [
    "# EXPLORATORY DATA ANALYSIS"
   ]
  },
  {
   "cell_type": "code",
   "execution_count": 1,
   "metadata": {
    "collapsed": false
   },
   "outputs": [],
   "source": [
    "import matplotlib.pyplot as plt\n",
    "from bs4 import BeautifulSoup\n",
    "from pprint import pprint\n",
    "import seaborn as sns\n",
    "import pandas as pd\n",
    "import numpy as np\n",
    "import langdetect\n",
    "import requests\n",
    "import chardet\n",
    "% matplotlib inline"
   ]
  },
  {
   "cell_type": "markdown",
   "metadata": {},
   "source": [
    "## LOAD DATA"
   ]
  },
  {
   "cell_type": "code",
   "execution_count": 2,
   "metadata": {
    "collapsed": false
   },
   "outputs": [
    {
     "data": {
      "text/html": [
       "<div>\n",
       "<table border=\"1\" class=\"dataframe\">\n",
       "  <thead>\n",
       "    <tr style=\"text-align: right;\">\n",
       "      <th></th>\n",
       "      <th>locale</th>\n",
       "      <th>diagnosisRAW</th>\n",
       "      <th>diagnosisCODED</th>\n",
       "      <th>zika</th>\n",
       "    </tr>\n",
       "  </thead>\n",
       "  <tbody>\n",
       "    <tr>\n",
       "      <th>0</th>\n",
       "      <td>pt_BR</td>\n",
       "      <td>estava somente gripado</td>\n",
       "      <td>Influenza</td>\n",
       "      <td>False</td>\n",
       "    </tr>\n",
       "    <tr>\n",
       "      <th>1</th>\n",
       "      <td>pt_BR</td>\n",
       "      <td>Me passou rem�dios para enchaqueca , soro e o ...</td>\n",
       "      <td>Other</td>\n",
       "      <td>False</td>\n",
       "    </tr>\n",
       "    <tr>\n",
       "      <th>2</th>\n",
       "      <td>pt_BR</td>\n",
       "      <td>repouso e tomar agua e o remedio nimesulida!!</td>\n",
       "      <td>Other</td>\n",
       "      <td>False</td>\n",
       "    </tr>\n",
       "    <tr>\n",
       "      <th>3</th>\n",
       "      <td>pt_BR</td>\n",
       "      <td>yes</td>\n",
       "      <td>Other</td>\n",
       "      <td>False</td>\n",
       "    </tr>\n",
       "    <tr>\n",
       "      <th>4</th>\n",
       "      <td>pt_BR</td>\n",
       "      <td>60%</td>\n",
       "      <td>Other</td>\n",
       "      <td>False</td>\n",
       "    </tr>\n",
       "    <tr>\n",
       "      <th>5</th>\n",
       "      <td>pt_BR</td>\n",
       "      <td>Hiniti</td>\n",
       "      <td>Other</td>\n",
       "      <td>False</td>\n",
       "    </tr>\n",
       "  </tbody>\n",
       "</table>\n",
       "</div>"
      ],
      "text/plain": [
       "  locale                                       diagnosisRAW diagnosisCODED  \\\n",
       "0  pt_BR                             estava somente gripado      Influenza   \n",
       "1  pt_BR  Me passou rem�dios para enchaqueca , soro e o ...          Other   \n",
       "2  pt_BR      repouso e tomar agua e o remedio nimesulida!!          Other   \n",
       "3  pt_BR                                                yes          Other   \n",
       "4  pt_BR                                                60%          Other   \n",
       "5  pt_BR                                             Hiniti          Other   \n",
       "\n",
       "    zika  \n",
       "0  False  \n",
       "1  False  \n",
       "2  False  \n",
       "3  False  \n",
       "4  False  \n",
       "5  False  "
      ]
     },
     "execution_count": 2,
     "metadata": {},
     "output_type": "execute_result"
    }
   ],
   "source": [
    "df = pd.read_csv('data/161207_ZikaLabels.csv')\n",
    "df.head(6)"
   ]
  },
  {
   "cell_type": "code",
   "execution_count": 3,
   "metadata": {
    "collapsed": false
   },
   "outputs": [
    {
     "data": {
      "text/plain": [
       "(7125, 4)"
      ]
     },
     "execution_count": 3,
     "metadata": {},
     "output_type": "execute_result"
    }
   ],
   "source": [
    "df.shape"
   ]
  },
  {
   "cell_type": "markdown",
   "metadata": {},
   "source": [
    "## CHECK NaNs"
   ]
  },
  {
   "cell_type": "code",
   "execution_count": 4,
   "metadata": {
    "collapsed": false
   },
   "outputs": [
    {
     "data": {
      "text/plain": [
       "locale             0\n",
       "diagnosisRAW      71\n",
       "diagnosisCODED    71\n",
       "zika               0\n",
       "dtype: int64"
      ]
     },
     "execution_count": 4,
     "metadata": {},
     "output_type": "execute_result"
    }
   ],
   "source": [
    "df.isnull().sum()"
   ]
  },
  {
   "cell_type": "markdown",
   "metadata": {},
   "source": [
    "## CHECK locale & diagnosisCODED"
   ]
  },
  {
   "cell_type": "code",
   "execution_count": 5,
   "metadata": {
    "collapsed": false
   },
   "outputs": [
    {
     "name": "stdout",
     "output_type": "stream",
     "text": [
      "pt_BR    7054\n",
      "es_LA      46\n",
      "en_US      20\n",
      "fr_FR       5\n",
      "Name: locale, dtype: int64\n",
      "###################################\n",
      "Other            4777\n",
      "Influenza         597\n",
      "Zika              478\n",
      "Virus disease     383\n",
      "Migraine          304\n",
      "Dengue            271\n",
      "Sinusitis         113\n",
      "Common cold        97\n",
      "Chikungunya        34\n",
      "Name: diagnosisCODED, dtype: int64\n"
     ]
    }
   ],
   "source": [
    "print df.locale.value_counts()\n",
    "print '#'*35\n",
    "print df.diagnosisCODED.value_counts()"
   ]
  },
  {
   "cell_type": "markdown",
   "metadata": {},
   "source": [
    "## CHECK CLASS BALANCE"
   ]
  },
  {
   "cell_type": "code",
   "execution_count": 6,
   "metadata": {
    "collapsed": false
   },
   "outputs": [
    {
     "data": {
      "image/png": "[encoded data removed]",
      "text/plain": [
       "<matplotlib.figure.Figure at 0x1179491d0>"
      ]
     },
     "metadata": {},
     "output_type": "display_data"
    }
   ],
   "source": [
    "plt.figure(figsize=(5,5))\n",
    "df.zika.value_counts().plot(kind='bar',title='Zika Distribution')\n",
    "plt.show()"
   ]
  },
  {
   "cell_type": "markdown",
   "metadata": {},
   "source": [
    "## CHECK ENCODING\n",
    "\n",
    "3 different encodings detected.\n",
    "\n",
    "Note to self: check to see if there are multiple languages"
   ]
  },
  {
   "cell_type": "code",
   "execution_count": 7,
   "metadata": {
    "collapsed": false
   },
   "outputs": [],
   "source": [
    "encoding_count = {}\n",
    "for text in df.diagnosisRAW:\n",
    "    try:\n",
    "        encoding = chardet.detect(text)['encoding']\n",
    "        if encoding in encoding_count.keys():\n",
    "            encoding_count[encoding] += 1\n",
    "        else:\n",
    "            encoding_count[encoding] = 1\n",
    "    except:\n",
    "        pass"
   ]
  },
  {
   "cell_type": "code",
   "execution_count": 8,
   "metadata": {
    "collapsed": false
   },
   "outputs": [
    {
     "name": "stdout",
     "output_type": "stream",
     "text": [
      "{None: 2, 'ISO-8859-2': 1933, 'ascii': 4814, 'windows-1252': 305}\n"
     ]
    }
   ],
   "source": [
    "pprint(encoding_count)"
   ]
  },
  {
   "cell_type": "markdown",
   "metadata": {},
   "source": [
    "## CHECK LANGUAGES\n",
    "\n",
    "29 different languages detected!"
   ]
  },
  {
   "cell_type": "code",
   "execution_count": 9,
   "metadata": {
    "collapsed": false
   },
   "outputs": [],
   "source": [
    "# webscrap for language abbreviations\n",
    "URL = 'http://www.lingoes.net/en/translator/langcode.htm'\n",
    "response = requests.get(URL)\n",
    "soup = BeautifulSoup(response.text,'lxml')\n",
    "html_tag = 'td' #tags include, but not limited to ['table','tbody','td','tr']\n",
    "html_text = soup.findAll(html_tag)\n",
    "lang_table = [website_info.text.encode('utf-8') for website_info in html_text]\n",
    "lang_abbrevs = np.array(lang_table).reshape(len(lang_table)/2,2) #view data\n",
    "lang_dict = {}\n",
    "for row in range(1,lang_abbrevs.shape[0]):\n",
    "    key = lang_abbrevs[row,0]\n",
    "    val = lang_abbrevs[row,1]\n",
    "    lang_dict[key] = val"
   ]
  },
  {
   "cell_type": "code",
   "execution_count": 14,
   "metadata": {
    "collapsed": false,
    "scrolled": true
   },
   "outputs": [],
   "source": [
    "# frequency of languages utilized\n",
    "lang_count = {}\n",
    "for text in df.diagnosisRAW:\n",
    "    try: \n",
    "        lang = langdetect.detect(text.decode('ISO-8859-2').encode('ASCII','ignore'))\n",
    "        lang = lang.encode('ASCII')\n",
    "        key = lang_dict[lang]\n",
    "        if key in lang_count.keys():\n",
    "            lang_count[key]+=1\n",
    "        else:\n",
    "            lang_count[key]=1\n",
    "    except:\n",
    "        pass"
   ]
  },
  {
   "cell_type": "code",
   "execution_count": 15,
   "metadata": {
    "collapsed": false
   },
   "outputs": [
    {
     "name": "stdout",
     "output_type": "stream",
     "text": [
      "{'Afrikaans': 55,\n",
      " 'Albanian': 321,\n",
      " 'Catalan': 345,\n",
      " 'Croatian': 99,\n",
      " 'Czech': 5,\n",
      " 'Danish': 10,\n",
      " 'Dutch': 51,\n",
      " 'English': 199,\n",
      " 'Estonian': 110,\n",
      " 'Finnish': 91,\n",
      " 'French': 326,\n",
      " 'German': 195,\n",
      " 'Hungarian': 4,\n",
      " 'Indonesian': 109,\n",
      " 'Italian': 263,\n",
      " 'Latvian': 74,\n",
      " 'Lithuanian': 267,\n",
      " 'Polish': 14,\n",
      " 'Portuguese': 2925,\n",
      " 'Romanian': 253,\n",
      " 'Slovak': 29,\n",
      " 'Slovenian': 74,\n",
      " 'Spanish': 272,\n",
      " 'Swahili': 180,\n",
      " 'Swedish': 7,\n",
      " 'Tagalog': 110,\n",
      " 'Turkish': 65,\n",
      " 'Vietnamese': 104,\n",
      " 'Welsh': 11}\n"
     ]
    }
   ],
   "source": [
    "pprint(lang_count)"
   ]
  }
 ],
 "metadata": {
  "anaconda-cloud": {},
  "kernelspec": {
   "display_name": "Python [Root]",
   "language": "python",
   "name": "Python [Root]"
  },
  "language_info": {
   "codemirror_mode": {
    "name": "ipython",
    "version": 2
   },
   "file_extension": ".py",
   "mimetype": "text/x-python",
   "name": "python",
   "nbconvert_exporter": "python",
   "pygments_lexer": "ipython2",
   "version": "2.7.12"
  }
 },
 "nbformat": 4,
 "nbformat_minor": 0
}
