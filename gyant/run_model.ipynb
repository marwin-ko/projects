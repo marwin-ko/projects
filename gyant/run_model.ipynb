{
 "cells": [
  {
   "cell_type": "markdown",
   "metadata": {},
   "source": [
    "# RUN MODEL (prototype)\n",
    "\n",
    "\n",
    "- Current prototype model (trained using Gaussian Naive Bayes).\n",
    "- Classification metrics show that current model predicts high amounts of false positives (aka predictions are \"True\" more often than \"False\")\n",
    "- Not great model, but a working prototype (that will get better with more data!)"
   ]
  },
  {
   "cell_type": "markdown",
   "metadata": {},
   "source": [
    "## IMPORTS"
   ]
  },
  {
   "cell_type": "code",
   "execution_count": 1,
   "metadata": {
    "collapsed": false
   },
   "outputs": [
    {
     "name": "stderr",
     "output_type": "stream",
     "text": [
      "/Users/marwinko/anaconda/lib/python2.7/site-packages/gensim/utils.py:1015: UserWarning: Pattern library is not installed, lemmatization won't be available.\n",
      "  warnings.warn(\"Pattern library is not installed, lemmatization won't be available.\")\n",
      "/Users/marwinko/anaconda/lib/python2.7/site-packages/nltk/twitter/__init__.py:20: UserWarning: The twython library has not been installed. Some functionality from the twitter package will not be available.\n",
      "  warnings.warn(\"The twython library has not been installed. \"\n"
     ]
    }
   ],
   "source": [
    "from sklearn.manifold import TSNE\n",
    "from gensim.models import Word2Vec\n",
    "from transformers import *\n",
    "import pandas as pd\n",
    "import matplotlib.pyplot as plt\n",
    "% matplotlib inline\n",
    "import pickle"
   ]
  },
  {
   "cell_type": "markdown",
   "metadata": {},
   "source": [
    "## OPEN MODEL"
   ]
  },
  {
   "cell_type": "code",
   "execution_count": 2,
   "metadata": {
    "collapsed": false
   },
   "outputs": [],
   "source": [
    "with open('Naive_Bayes_MODEL2.plk','rb') as f:\n",
    "    pipe = pickle.load(f)"
   ]
  },
  {
   "cell_type": "markdown",
   "metadata": {},
   "source": [
    "## TEST MODEL\n",
    "\n",
    "Enter text to test!!!"
   ]
  },
  {
   "cell_type": "code",
   "execution_count": 3,
   "metadata": {
    "collapsed": false
   },
   "outputs": [],
   "source": [
    "def test_run_model(text):\n",
    "    print 'Text input: \\\"{}\\\"'.format(text)\n",
    "    print 'Prediction: {}'.format(pipe.predict(pd.Series(text))[0])\n",
    "    print 'Probability the model thinks you do NOT have the Zika Virus (FALSE): {}'.format(pipe.predict_proba(pd.Series(text))[0][0],4)\n",
    "    print 'Probability the model thinks you DO have the Zika Virus (TRUE): {}'.format(pipe.predict_proba(pd.Series(text))[0][1],4)"
   ]
  },
  {
   "cell_type": "markdown",
   "metadata": {},
   "source": [
    "## EXAMPLES"
   ]
  },
  {
   "cell_type": "markdown",
   "metadata": {},
   "source": [
    "### EX_1"
   ]
  },
  {
   "cell_type": "code",
   "execution_count": 4,
   "metadata": {
    "collapsed": false
   },
   "outputs": [
    {
     "name": "stdout",
     "output_type": "stream",
     "text": [
      "Text input: \"Eu tenho o vírus zika\"\n",
      "Prediction: True\n",
      "Probability the model thinks you do NOT have the Zika Virus (FALSE): 4.14104661018e-06\n",
      "Probability the model thinks you DO have the Zika Virus (TRUE): 0.999995858953\n"
     ]
    }
   ],
   "source": [
    "text = 'Eu tenho o vírus zika' #I have the zika virus\n",
    "test_run_model(text)"
   ]
  },
  {
   "cell_type": "markdown",
   "metadata": {},
   "source": [
    "### EX_2"
   ]
  },
  {
   "cell_type": "code",
   "execution_count": 5,
   "metadata": {
    "collapsed": false
   },
   "outputs": [
    {
     "name": "stdout",
     "output_type": "stream",
     "text": [
      "Text input: \"Eu nao tenho o virus zika\"\n",
      "Prediction: True\n",
      "Probability the model thinks you do NOT have the Zika Virus (FALSE): 1.72368254982e-06\n",
      "Probability the model thinks you DO have the Zika Virus (TRUE): 0.999998276317\n"
     ]
    }
   ],
   "source": [
    "text = 'Eu nao tenho o virus zika' # I do not have the zika virus\n",
    "test_run_model(text)"
   ]
  },
  {
   "cell_type": "markdown",
   "metadata": {},
   "source": [
    "## ANALYSIS\n",
    "\n",
    "From the two examples above, the model we can obviously see the model cannot differentiate between whether someone has Zika or not based off of that person's text message.\n",
    "\n",
    "So, why is that? I have spent some time thinking about whether or not it is possible. One method that I have chosen to determine whether there is \"distinction\" or semantic group for text related to people with Zika or not is... a word2vec (word to vectors) model approach visualized via TNSE, a method that allows you to visualize high dimensionality space.\n",
    "\n",
    "Check out the Word2Vec_model.ipynb to see my semantic grouping of words. Just a forewarning, this is no semantic grouping...at least from my perspective."
   ]
  },
  {
   "cell_type": "code",
   "execution_count": 6,
   "metadata": {
    "collapsed": false
   },
   "outputs": [],
   "source": [
    "# # Get sentences\n",
    "# df = pd.read_csv('data/161207_ZikaLabels.csv')\n",
    "# df.dropna(axis=0,inplace=True)\n",
    "# X = df.diagnosisRAW\n",
    "# t1 = AsciiTransformer().fit_transform(X)\n",
    "# t2 = LowerCaseTransformer().fit_transform(t1)\n",
    "# t3 = RemoveSymsTransformer().fit_transform(t2)\n",
    "# t4 = RemoveStopWordsTransformer().fit_transform(t3)\n",
    "# sentences = []\n",
    "\n",
    "# for i in range(100):\n",
    "#     sentences.append(t4[i].split())\n",
    "# print sentences\n",
    "\n",
    "# #Train Word2Vec Model\n",
    "# w2v = Word2Vec(sentences, min_count=1, workers=2)\n",
    "# labels = set(w2v.index2word)    \n",
    "# vectors = w2v.syn0\n",
    "\n",
    "# # Rhymes with Disney\n",
    "# tisney = TSNE(n_components=2, random_state=0)\n",
    "# vectors2d = tisney.fit_transform(vectors)\n",
    "# plt.figure(figsize=(15, 15))\n",
    "# for i, label in enumerate(labels):\n",
    "#     if i > 100:\n",
    "#         break\n",
    "#     x, y = vectors2d[i,:]\n",
    "#     plt.scatter(x, y)\n",
    "#     if label in ['zica','zika','zoka']:\n",
    "#         plt.annotate(label, xy=(x, y), xytext=(5, 2), textcoords='offset points', ha='right', va='bottom',color='r')\n",
    "#     else:\n",
    "#         pass\n",
    "#         plt.annotate(label, xy=(x, y), xytext=(5, 2), textcoords='offset points', ha='right', va='bottom',color='k')\n",
    "# plt.show()"
   ]
  }
 ],
 "metadata": {
  "kernelspec": {
   "display_name": "Python [Root]",
   "language": "python",
   "name": "Python [Root]"
  },
  "language_info": {
   "codemirror_mode": {
    "name": "ipython",
    "version": 2
   },
   "file_extension": ".py",
   "mimetype": "text/x-python",
   "name": "python",
   "nbconvert_exporter": "python",
   "pygments_lexer": "ipython2",
   "version": "2.7.12"
  }
 },
 "nbformat": 4,
 "nbformat_minor": 0
}
