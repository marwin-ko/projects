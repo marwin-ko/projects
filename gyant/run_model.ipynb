{
 "cells": [
  {
   "cell_type": "markdown",
   "metadata": {},
   "source": [
    "# RUN MODEL (prototype)\n",
    "\n",
    "\n",
    "- Current prototype model (trained using Gaussian Naive Bayes).\n",
    "- Classification metrics show that current model predicts high amounts of false positives (aka predictions are \"True\" more often than \"False\")\n",
    "- Not great model, but a working prototype (that will get better with more data!)"
   ]
  },
  {
   "cell_type": "markdown",
   "metadata": {},
   "source": [
    "## IMPORTS"
   ]
  },
  {
   "cell_type": "code",
   "execution_count": 1,
   "metadata": {
    "collapsed": false
   },
   "outputs": [],
   "source": [
    "from sklearn.naive_bayes import GaussianNB\n",
    "from sklearn.base import TransformerMixin\n",
    "import pandas as pd\n",
    "import pickle\n",
    "class AsciiTransformer(TransformerMixin):\n",
    "    def transform(self,X,**transform_params):     \n",
    "        return pd.Series(X.apply(lambda x: x.decode('ISO-8859-2').encode('ASCII','ignore')))\n",
    "    def fit(self,X,y=None,**fit_params):\n",
    "        return self"
   ]
  },
  {
   "cell_type": "markdown",
   "metadata": {},
   "source": [
    "## OPEN MODEL"
   ]
  },
  {
   "cell_type": "code",
   "execution_count": 2,
   "metadata": {
    "collapsed": true
   },
   "outputs": [],
   "source": [
    "with open('Naive_Bayes_MODEL1.plk','rb') as f:\n",
    "    pipe = pickle.load(f)"
   ]
  },
  {
   "cell_type": "markdown",
   "metadata": {},
   "source": [
    "## TEST MODEL (Stefan, test model here!)\n",
    "\n",
    "Enter text to test!!!"
   ]
  },
  {
   "cell_type": "code",
   "execution_count": 3,
   "metadata": {
    "collapsed": false
   },
   "outputs": [
    {
     "name": "stdout",
     "output_type": "stream",
     "text": [
      "TEXT_INPUT: \"enter text here\"\n",
      "PREDICTION: True\n",
      "FALSE_PROB: 8.68420772331e-38 \t TRUE_PROB: 1.0\n"
     ]
    }
   ],
   "source": [
    "text = 'enter text here'\n",
    "print 'TEXT_INPUT: \\\"{}\\\"'.format(text)\n",
    "print 'PREDICTION: {}'.format(pipe.predict(pd.Series(text))[0])\n",
    "print 'FALSE_PROB: {} \\t TRUE_PROB: {}'.format(pipe.predict_proba(pd.Series(text))[0][0],\n",
    "                                               pipe.predict_proba(pd.Series(text))[0][1])"
   ]
  },
  {
   "cell_type": "markdown",
   "metadata": {},
   "source": [
    "## EXAMPLES"
   ]
  },
  {
   "cell_type": "markdown",
   "metadata": {},
   "source": [
    "### EX_1"
   ]
  },
  {
   "cell_type": "code",
   "execution_count": 4,
   "metadata": {
    "collapsed": false
   },
   "outputs": [
    {
     "name": "stdout",
     "output_type": "stream",
     "text": [
      "TEXT_INPUT: \"I have the zika virus\"\n",
      "PREDICTION: True\n",
      "FALSE_PROB: 4.31734457256e-47 \t TRUE_PROB: 1.0\n"
     ]
    }
   ],
   "source": [
    "text = 'I have the zika virus'\n",
    "print 'TEXT_INPUT: \\\"{}\\\"'.format(text)\n",
    "print 'PREDICTION: {}'.format(pipe.predict(pd.Series(text))[0])\n",
    "print 'FALSE_PROB: {} \\t TRUE_PROB: {}'.format(pipe.predict_proba(pd.Series(text))[0][0],\n",
    "                                               pipe.predict_proba(pd.Series(text))[0][1])"
   ]
  },
  {
   "cell_type": "markdown",
   "metadata": {},
   "source": [
    "### EX_2"
   ]
  },
  {
   "cell_type": "code",
   "execution_count": 5,
   "metadata": {
    "collapsed": false
   },
   "outputs": [
    {
     "name": "stdout",
     "output_type": "stream",
     "text": [
      "TEXT_INPUT: \"I do not have the zika virus\"\n",
      "PREDICTION: False\n",
      "FALSE_PROB: 0.999999999997 \t TRUE_PROB: 3.4934555812e-12\n"
     ]
    }
   ],
   "source": [
    "text = 'I do not have the zika virus'\n",
    "print 'TEXT_INPUT: \\\"{}\\\"'.format(text)\n",
    "print 'PREDICTION: {}'.format(pipe.predict(pd.Series(text))[0])\n",
    "print 'FALSE_PROB: {} \\t TRUE_PROB: {}'.format(pipe.predict_proba(pd.Series(text))[0][0],\n",
    "                                               pipe.predict_proba(pd.Series(text))[0][1])"
   ]
  }
 ],
 "metadata": {
  "kernelspec": {
   "display_name": "Python [Root]",
   "language": "python",
   "name": "Python [Root]"
  },
  "language_info": {
   "codemirror_mode": {
    "name": "ipython",
    "version": 2
   },
   "file_extension": ".py",
   "mimetype": "text/x-python",
   "name": "python",
   "nbconvert_exporter": "python",
   "pygments_lexer": "ipython2",
   "version": "2.7.12"
  }
 },
 "nbformat": 4,
 "nbformat_minor": 0
}
