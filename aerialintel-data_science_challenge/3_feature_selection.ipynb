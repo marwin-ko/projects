{
 "cells": [
  {
   "cell_type": "markdown",
   "metadata": {},
   "source": [
    "# FEATURE SELECTION"
   ]
  },
  {
   "cell_type": "code",
   "execution_count": 1,
   "metadata": {
    "collapsed": false
   },
   "outputs": [],
   "source": [
    "from sklearn.ensemble import RandomForestRegressor,GradientBoostingRegressor\n",
    "from sklearn.cross_validation import train_test_split, cross_val_score\n",
    "from sklearn.linear_model import LinearRegression\n",
    "from sklearn.preprocessing import StandardScaler\n",
    "from sequential_backward_selection import SBS\n",
    "from pprint import pprint\n",
    "from time import time\n",
    "import pandas as pd\n",
    "import numpy as np\n",
    "import pickle\n",
    "\n",
    "from warnings import filterwarnings\n",
    "filterwarnings('ignore')\n",
    "import matplotlib.pyplot as plt\n",
    "% matplotlib inline "
   ]
  },
  {
   "cell_type": "markdown",
   "metadata": {},
   "source": [
    "## LOAD DATA"
   ]
  },
  {
   "cell_type": "code",
   "execution_count": 2,
   "metadata": {
    "collapsed": false
   },
   "outputs": [
    {
     "data": {
      "text/html": [
       "<div>\n",
       "<table border=\"1\" class=\"dataframe\">\n",
       "  <thead>\n",
       "    <tr style=\"text-align: right;\">\n",
       "      <th></th>\n",
       "      <th>Latitude</th>\n",
       "      <th>Longitude</th>\n",
       "      <th>apparentTemperatureMax</th>\n",
       "      <th>apparentTemperatureMin</th>\n",
       "      <th>cloudCover</th>\n",
       "      <th>dewPoint</th>\n",
       "      <th>humidity</th>\n",
       "      <th>precipIntensity</th>\n",
       "      <th>precipIntensityMax</th>\n",
       "      <th>precipProbability</th>\n",
       "      <th>...</th>\n",
       "      <th>precipTypeIsSnow</th>\n",
       "      <th>pressure</th>\n",
       "      <th>temperatureMax</th>\n",
       "      <th>temperatureMin</th>\n",
       "      <th>visibility</th>\n",
       "      <th>windBearing</th>\n",
       "      <th>windSpeed</th>\n",
       "      <th>NDVI</th>\n",
       "      <th>DayInSeason</th>\n",
       "      <th>Yield</th>\n",
       "    </tr>\n",
       "  </thead>\n",
       "  <tbody>\n",
       "    <tr>\n",
       "      <th>0</th>\n",
       "      <td>46.811686</td>\n",
       "      <td>-118.695237</td>\n",
       "      <td>35.70</td>\n",
       "      <td>20.85</td>\n",
       "      <td>0.00</td>\n",
       "      <td>29.53</td>\n",
       "      <td>0.91</td>\n",
       "      <td>0.0000</td>\n",
       "      <td>0.0000</td>\n",
       "      <td>0.00</td>\n",
       "      <td>...</td>\n",
       "      <td>0</td>\n",
       "      <td>1027.13</td>\n",
       "      <td>35.70</td>\n",
       "      <td>27.48</td>\n",
       "      <td>2.46</td>\n",
       "      <td>214</td>\n",
       "      <td>1.18</td>\n",
       "      <td>134.110657</td>\n",
       "      <td>0</td>\n",
       "      <td>35.7</td>\n",
       "    </tr>\n",
       "    <tr>\n",
       "      <th>1</th>\n",
       "      <td>46.929839</td>\n",
       "      <td>-118.352109</td>\n",
       "      <td>35.10</td>\n",
       "      <td>26.92</td>\n",
       "      <td>0.00</td>\n",
       "      <td>29.77</td>\n",
       "      <td>0.93</td>\n",
       "      <td>0.0001</td>\n",
       "      <td>0.0019</td>\n",
       "      <td>0.05</td>\n",
       "      <td>...</td>\n",
       "      <td>0</td>\n",
       "      <td>1026.87</td>\n",
       "      <td>35.10</td>\n",
       "      <td>26.92</td>\n",
       "      <td>2.83</td>\n",
       "      <td>166</td>\n",
       "      <td>1.01</td>\n",
       "      <td>131.506592</td>\n",
       "      <td>0</td>\n",
       "      <td>35.7</td>\n",
       "    </tr>\n",
       "    <tr>\n",
       "      <th>2</th>\n",
       "      <td>47.006888</td>\n",
       "      <td>-118.510160</td>\n",
       "      <td>33.38</td>\n",
       "      <td>26.95</td>\n",
       "      <td>0.00</td>\n",
       "      <td>29.36</td>\n",
       "      <td>0.94</td>\n",
       "      <td>0.0001</td>\n",
       "      <td>0.0022</td>\n",
       "      <td>0.06</td>\n",
       "      <td>...</td>\n",
       "      <td>1</td>\n",
       "      <td>1026.88</td>\n",
       "      <td>33.38</td>\n",
       "      <td>26.95</td>\n",
       "      <td>2.95</td>\n",
       "      <td>158</td>\n",
       "      <td>1.03</td>\n",
       "      <td>131.472946</td>\n",
       "      <td>0</td>\n",
       "      <td>35.7</td>\n",
       "    </tr>\n",
       "    <tr>\n",
       "      <th>3</th>\n",
       "      <td>47.162342</td>\n",
       "      <td>-118.699677</td>\n",
       "      <td>28.05</td>\n",
       "      <td>25.93</td>\n",
       "      <td>0.91</td>\n",
       "      <td>29.47</td>\n",
       "      <td>0.94</td>\n",
       "      <td>0.0002</td>\n",
       "      <td>0.0039</td>\n",
       "      <td>0.15</td>\n",
       "      <td>...</td>\n",
       "      <td>1</td>\n",
       "      <td>1026.37</td>\n",
       "      <td>33.19</td>\n",
       "      <td>27.17</td>\n",
       "      <td>2.89</td>\n",
       "      <td>153</td>\n",
       "      <td>1.84</td>\n",
       "      <td>131.288300</td>\n",
       "      <td>0</td>\n",
       "      <td>35.7</td>\n",
       "    </tr>\n",
       "    <tr>\n",
       "      <th>4</th>\n",
       "      <td>47.157512</td>\n",
       "      <td>-118.434056</td>\n",
       "      <td>28.83</td>\n",
       "      <td>25.98</td>\n",
       "      <td>0.91</td>\n",
       "      <td>29.86</td>\n",
       "      <td>0.94</td>\n",
       "      <td>0.0003</td>\n",
       "      <td>0.0055</td>\n",
       "      <td>0.24</td>\n",
       "      <td>...</td>\n",
       "      <td>0</td>\n",
       "      <td>1026.19</td>\n",
       "      <td>33.85</td>\n",
       "      <td>27.07</td>\n",
       "      <td>2.97</td>\n",
       "      <td>156</td>\n",
       "      <td>1.85</td>\n",
       "      <td>131.288300</td>\n",
       "      <td>0</td>\n",
       "      <td>35.7</td>\n",
       "    </tr>\n",
       "  </tbody>\n",
       "</table>\n",
       "<p>5 rows × 22 columns</p>\n",
       "</div>"
      ],
      "text/plain": [
       "    Latitude   Longitude  apparentTemperatureMax  apparentTemperatureMin  \\\n",
       "0  46.811686 -118.695237                   35.70                   20.85   \n",
       "1  46.929839 -118.352109                   35.10                   26.92   \n",
       "2  47.006888 -118.510160                   33.38                   26.95   \n",
       "3  47.162342 -118.699677                   28.05                   25.93   \n",
       "4  47.157512 -118.434056                   28.83                   25.98   \n",
       "\n",
       "   cloudCover  dewPoint  humidity  precipIntensity  precipIntensityMax  \\\n",
       "0        0.00     29.53      0.91           0.0000              0.0000   \n",
       "1        0.00     29.77      0.93           0.0001              0.0019   \n",
       "2        0.00     29.36      0.94           0.0001              0.0022   \n",
       "3        0.91     29.47      0.94           0.0002              0.0039   \n",
       "4        0.91     29.86      0.94           0.0003              0.0055   \n",
       "\n",
       "   precipProbability  ...    precipTypeIsSnow  pressure  temperatureMax  \\\n",
       "0               0.00  ...                   0   1027.13           35.70   \n",
       "1               0.05  ...                   0   1026.87           35.10   \n",
       "2               0.06  ...                   1   1026.88           33.38   \n",
       "3               0.15  ...                   1   1026.37           33.19   \n",
       "4               0.24  ...                   0   1026.19           33.85   \n",
       "\n",
       "   temperatureMin  visibility  windBearing  windSpeed        NDVI  \\\n",
       "0           27.48        2.46          214       1.18  134.110657   \n",
       "1           26.92        2.83          166       1.01  131.506592   \n",
       "2           26.95        2.95          158       1.03  131.472946   \n",
       "3           27.17        2.89          153       1.84  131.288300   \n",
       "4           27.07        2.97          156       1.85  131.288300   \n",
       "\n",
       "   DayInSeason  Yield  \n",
       "0            0   35.7  \n",
       "1            0   35.7  \n",
       "2            0   35.7  \n",
       "3            0   35.7  \n",
       "4            0   35.7  \n",
       "\n",
       "[5 rows x 22 columns]"
      ]
     },
     "execution_count": 2,
     "metadata": {},
     "output_type": "execute_result"
    }
   ],
   "source": [
    "df = pd.read_csv('data/wheat-2013-supervised-edited.csv')\n",
    "df.drop(df.columns[0],axis=1,inplace=True)\n",
    "df.head()"
   ]
  },
  {
   "cell_type": "markdown",
   "metadata": {},
   "source": [
    "## ALGORITHMS"
   ]
  },
  {
   "cell_type": "code",
   "execution_count": 3,
   "metadata": {
    "collapsed": true
   },
   "outputs": [],
   "source": [
    "models = {}\n",
    "models['Linear Regression'] = LinearRegression()\n",
    "models['Gradient Boost'] = GradientBoostingRegressor(random_state=42)\n",
    "models['Random Forest'] = RandomForestRegressor(random_state=42)"
   ]
  },
  {
   "cell_type": "markdown",
   "metadata": {},
   "source": [
    "## FEATURE EVALUATION"
   ]
  },
  {
   "cell_type": "code",
   "execution_count": null,
   "metadata": {
    "collapsed": true
   },
   "outputs": [],
   "source": [
    "def show_feat_importances(name, trained_model,feat_labels):\n",
    "    plt.figure(figsize=(10,5))\n",
    "    if name == 'Linear Regression':\n",
    "        importances = trained_model.coef_\n",
    "        plt.ylabel('Coefficients')\n",
    "    else:\n",
    "        importances = trained_model.feature_importances_\n",
    "        plt.ylabel('Importances')\n",
    "    indices = np.argsort(importances)[::-1]\n",
    "    plt.bar(range(len(feat_labels)),importances[indices],color='lightblue',align='center')\n",
    "    plt.xticks(range(len(feat_labels)),feat_labels[indices],rotation=90)\n",
    "    plt.xlim([-1,len(feat_labels)])\n",
    "    plt.tight_layout()\n",
    "    plt.title('FEATURE IMPORTANCE | MODEL:{}'.format(name))\n",
    "    plt.grid()\n",
    "    plt.show()"
   ]
  },
  {
   "cell_type": "markdown",
   "metadata": {},
   "source": [
    "### FEATURE EVALUATION: Round#1\n",
    "\n",
    "The model scores alone tipped me off to further investigate the longitude and latitude features. In my review, I concluded that longitude and latitude was a source of leakage (where features are directly related to the target). As a result, I removed longitude and latitude as features in Round#2 of model/feature evaluation."
   ]
  },
  {
   "cell_type": "code",
   "execution_count": null,
   "metadata": {
    "collapsed": false
   },
   "outputs": [],
   "source": [
    "start_time = time()\n",
    "X = np.matrix(df.ix[:,:-1])\n",
    "y = np.array(df.ix[:,-1])\n",
    "X_std = StandardScaler().fit_transform(X)\n",
    "y_std = StandardScaler().fit_transform(y)\n",
    "X_train,X_test,y_train,y_test = train_test_split(X_std,y_std,test_size=0.25,random_state=42)\n",
    "for name,model in models.items():\n",
    "    results= model.fit(X_train,y_train)\n",
    "    test_score = model.score(X_test,y_test)\n",
    "    train_score = np.mean(cross_val_score(model,X_train,y_train,cv=8))\n",
    "    print '################################### {} ##########################################'.format(name)\n",
    "    print 'RUN_TIME:{}sec \\t TEST_SCORE:{} \\t TRAIN_SCORE:{}'.format(time()-start_time,test_score.round(2),train_score.round(2))\n",
    "    show_feat_importances(name,results,df.columns[:-1])"
   ]
  },
  {
   "cell_type": "markdown",
   "metadata": {},
   "source": [
    "### FEATURE EVALUATION: Round#2\n",
    "\n",
    "In this round, it is apparent that the \"precip...\" features are on the lower end of importance. I will use this information to help me remove features after I run the sequential backward selection (SBS), a feature selection algorithm."
   ]
  },
  {
   "cell_type": "code",
   "execution_count": null,
   "metadata": {
    "collapsed": false
   },
   "outputs": [],
   "source": [
    "start_time = time()\n",
    "X = np.matrix(df.ix[:,2:-1])\n",
    "y = np.array(df.ix[:,-1])\n",
    "X_std = StandardScaler().fit_transform(X)\n",
    "y_std = StandardScaler().fit_transform(y)\n",
    "X_train,X_test,y_train,y_test = train_test_split(X_std,y_std,test_size=0.25,random_state=42)\n",
    "for name,model in models.items():\n",
    "    results= model.fit(X_train,y_train)\n",
    "    test_score = model.score(X_test,y_test)\n",
    "    train_score = np.mean(cross_val_score(model,X_train,y_train,cv=8))\n",
    "    print '################################### {} ##########################################'.format(name)\n",
    "    print 'RUN_TIME:{}sec \\t TEST_SCORE:{} \\t TRAIN_SCORE:{}'.format(time()-start_time,test_score.round(2),train_score.round(2))\n",
    "    show_feat_importances(name,results,df.columns[2:-1])"
   ]
  },
  {
   "cell_type": "markdown",
   "metadata": {},
   "source": [
    "## Sequential Backward Selection (SBS)\n",
    "\n",
    "The sequential backward selection (SBS) is a feature selection technique that utilizes the greedy algorithm approach to optimize the score for a model given k features.\n",
    "\n",
    "In the graph shown below, the (test) scores plateau at the...\n",
    "* MODEL: Random Forest     ==> plateau: 5th iteration (4 features removed)\n",
    "* MODEL: Linear Regression ==> plateau: 9th iteration (8 features removed)\n",
    "* MODEL: Gradient Boost    ==> plateau: 9th iteration (8 features removed)\n",
    "\n",
    "_See below the graph for a print out of the specific feature removed for each model._"
   ]
  },
  {
   "cell_type": "code",
   "execution_count": null,
   "metadata": {
    "collapsed": false
   },
   "outputs": [],
   "source": [
    "sbs_dict = {}\n",
    "plt.figure(figsize=(10,5))\n",
    "names = []\n",
    "for name,model in models.items():\n",
    "    names.append(name)\n",
    "    sbs = SBS(model, k_features=1)\n",
    "    sbs.fit(X,y)\n",
    "    k_feat = [len(k)-1 for k in sbs.subsets_]\n",
    "    sbs_dict[name] = sbs.subsets_\n",
    "    sbs_feat_subset = sbs.subsets_\n",
    "    plt.plot(k_feat,sbs.scores_,marker='o')\n",
    "    plt.xlabel('# of Features Removed')\n",
    "    plt.ylabel('Test Score')\n",
    "    plt.grid(True)\n",
    "plt.title('Sequential Backward Selection')    \n",
    "plt.legend(names,loc=0)\n",
    "plt.show()"
   ]
  },
  {
   "cell_type": "code",
   "execution_count": null,
   "metadata": {
    "collapsed": false
   },
   "outputs": [],
   "source": [
    "for name,model in models.items():\n",
    "    print '################################### {} ##########################################'.format(name)\n",
    "    if name == 'Random Forest':\n",
    "        k = 4\n",
    "    else:\n",
    "        k = 8\n",
    "    remove_feats = list(set(list(df.columns[2:-1])) - set(list(df.columns[2:-1][list(sbs_dict[name][k])])))\n",
    "    pprint(remove_feats)\n",
    "    print ''"
   ]
  },
  {
   "cell_type": "markdown",
   "metadata": {},
   "source": [
    "## SAVE SBS FEATURE GROUPINGS"
   ]
  },
  {
   "cell_type": "code",
   "execution_count": null,
   "metadata": {
    "collapsed": true
   },
   "outputs": [],
   "source": [
    "# with open('data/SBS_feat_set.plk','wb') as f:\n",
    "#     pickle.dump(sbs_dict,f)"
   ]
  }
 ],
 "metadata": {
  "anaconda-cloud": {},
  "kernelspec": {
   "display_name": "Python [Root]",
   "language": "python",
   "name": "Python [Root]"
  },
  "language_info": {
   "codemirror_mode": {
    "name": "ipython",
    "version": 2
   },
   "file_extension": ".py",
   "mimetype": "text/x-python",
   "name": "python",
   "nbconvert_exporter": "python",
   "pygments_lexer": "ipython2",
   "version": "2.7.12"
  }
 },
 "nbformat": 4,
 "nbformat_minor": 0
}
