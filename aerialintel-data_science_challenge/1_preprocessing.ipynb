{
 "cells": [
  {
   "cell_type": "markdown",
   "metadata": {},
   "source": [
    "# PREPROCESSING"
   ]
  },
  {
   "cell_type": "code",
   "execution_count": 1,
   "metadata": {
    "collapsed": true
   },
   "outputs": [],
   "source": [
    "import matplotlib.pyplot as plt\n",
    "import pandas as pd\n",
    "import numpy as np\n",
    "% matplotlib inline"
   ]
  },
  {
   "cell_type": "markdown",
   "metadata": {},
   "source": [
    "## LOAD DATA\n",
    "\n",
    "The follow features were dropped to prevent overfitting: CountyName, State, and Date."
   ]
  },
  {
   "cell_type": "code",
   "execution_count": 2,
   "metadata": {
    "collapsed": false
   },
   "outputs": [
    {
     "data": {
      "text/html": [
       "<div>\n",
       "<table border=\"1\" class=\"dataframe\">\n",
       "  <thead>\n",
       "    <tr style=\"text-align: right;\">\n",
       "      <th></th>\n",
       "      <th>Latitude</th>\n",
       "      <th>Longitude</th>\n",
       "      <th>apparentTemperatureMax</th>\n",
       "      <th>apparentTemperatureMin</th>\n",
       "      <th>cloudCover</th>\n",
       "      <th>dewPoint</th>\n",
       "      <th>humidity</th>\n",
       "      <th>precipIntensity</th>\n",
       "      <th>precipIntensityMax</th>\n",
       "      <th>precipProbability</th>\n",
       "      <th>...</th>\n",
       "      <th>precipTypeIsOther</th>\n",
       "      <th>pressure</th>\n",
       "      <th>temperatureMax</th>\n",
       "      <th>temperatureMin</th>\n",
       "      <th>visibility</th>\n",
       "      <th>windBearing</th>\n",
       "      <th>windSpeed</th>\n",
       "      <th>NDVI</th>\n",
       "      <th>DayInSeason</th>\n",
       "      <th>Yield</th>\n",
       "    </tr>\n",
       "  </thead>\n",
       "  <tbody>\n",
       "    <tr>\n",
       "      <th>0</th>\n",
       "      <td>46.811686</td>\n",
       "      <td>-118.695237</td>\n",
       "      <td>35.70</td>\n",
       "      <td>20.85</td>\n",
       "      <td>0.00</td>\n",
       "      <td>29.53</td>\n",
       "      <td>0.91</td>\n",
       "      <td>0.0000</td>\n",
       "      <td>0.0000</td>\n",
       "      <td>0.00</td>\n",
       "      <td>...</td>\n",
       "      <td>0</td>\n",
       "      <td>1027.13</td>\n",
       "      <td>35.70</td>\n",
       "      <td>27.48</td>\n",
       "      <td>2.46</td>\n",
       "      <td>214</td>\n",
       "      <td>1.18</td>\n",
       "      <td>134.110657</td>\n",
       "      <td>0</td>\n",
       "      <td>35.7</td>\n",
       "    </tr>\n",
       "    <tr>\n",
       "      <th>1</th>\n",
       "      <td>46.929839</td>\n",
       "      <td>-118.352109</td>\n",
       "      <td>35.10</td>\n",
       "      <td>26.92</td>\n",
       "      <td>0.00</td>\n",
       "      <td>29.77</td>\n",
       "      <td>0.93</td>\n",
       "      <td>0.0001</td>\n",
       "      <td>0.0019</td>\n",
       "      <td>0.05</td>\n",
       "      <td>...</td>\n",
       "      <td>0</td>\n",
       "      <td>1026.87</td>\n",
       "      <td>35.10</td>\n",
       "      <td>26.92</td>\n",
       "      <td>2.83</td>\n",
       "      <td>166</td>\n",
       "      <td>1.01</td>\n",
       "      <td>131.506592</td>\n",
       "      <td>0</td>\n",
       "      <td>35.7</td>\n",
       "    </tr>\n",
       "    <tr>\n",
       "      <th>2</th>\n",
       "      <td>47.006888</td>\n",
       "      <td>-118.510160</td>\n",
       "      <td>33.38</td>\n",
       "      <td>26.95</td>\n",
       "      <td>0.00</td>\n",
       "      <td>29.36</td>\n",
       "      <td>0.94</td>\n",
       "      <td>0.0001</td>\n",
       "      <td>0.0022</td>\n",
       "      <td>0.06</td>\n",
       "      <td>...</td>\n",
       "      <td>0</td>\n",
       "      <td>1026.88</td>\n",
       "      <td>33.38</td>\n",
       "      <td>26.95</td>\n",
       "      <td>2.95</td>\n",
       "      <td>158</td>\n",
       "      <td>1.03</td>\n",
       "      <td>131.472946</td>\n",
       "      <td>0</td>\n",
       "      <td>35.7</td>\n",
       "    </tr>\n",
       "    <tr>\n",
       "      <th>3</th>\n",
       "      <td>47.162342</td>\n",
       "      <td>-118.699677</td>\n",
       "      <td>28.05</td>\n",
       "      <td>25.93</td>\n",
       "      <td>0.91</td>\n",
       "      <td>29.47</td>\n",
       "      <td>0.94</td>\n",
       "      <td>0.0002</td>\n",
       "      <td>0.0039</td>\n",
       "      <td>0.15</td>\n",
       "      <td>...</td>\n",
       "      <td>0</td>\n",
       "      <td>1026.37</td>\n",
       "      <td>33.19</td>\n",
       "      <td>27.17</td>\n",
       "      <td>2.89</td>\n",
       "      <td>153</td>\n",
       "      <td>1.84</td>\n",
       "      <td>131.288300</td>\n",
       "      <td>0</td>\n",
       "      <td>35.7</td>\n",
       "    </tr>\n",
       "    <tr>\n",
       "      <th>4</th>\n",
       "      <td>47.157512</td>\n",
       "      <td>-118.434056</td>\n",
       "      <td>28.83</td>\n",
       "      <td>25.98</td>\n",
       "      <td>0.91</td>\n",
       "      <td>29.86</td>\n",
       "      <td>0.94</td>\n",
       "      <td>0.0003</td>\n",
       "      <td>0.0055</td>\n",
       "      <td>0.24</td>\n",
       "      <td>...</td>\n",
       "      <td>0</td>\n",
       "      <td>1026.19</td>\n",
       "      <td>33.85</td>\n",
       "      <td>27.07</td>\n",
       "      <td>2.97</td>\n",
       "      <td>156</td>\n",
       "      <td>1.85</td>\n",
       "      <td>131.288300</td>\n",
       "      <td>0</td>\n",
       "      <td>35.7</td>\n",
       "    </tr>\n",
       "  </tbody>\n",
       "</table>\n",
       "<p>5 rows × 23 columns</p>\n",
       "</div>"
      ],
      "text/plain": [
       "    Latitude   Longitude  apparentTemperatureMax  apparentTemperatureMin  \\\n",
       "0  46.811686 -118.695237                   35.70                   20.85   \n",
       "1  46.929839 -118.352109                   35.10                   26.92   \n",
       "2  47.006888 -118.510160                   33.38                   26.95   \n",
       "3  47.162342 -118.699677                   28.05                   25.93   \n",
       "4  47.157512 -118.434056                   28.83                   25.98   \n",
       "\n",
       "   cloudCover  dewPoint  humidity  precipIntensity  precipIntensityMax  \\\n",
       "0        0.00     29.53      0.91           0.0000              0.0000   \n",
       "1        0.00     29.77      0.93           0.0001              0.0019   \n",
       "2        0.00     29.36      0.94           0.0001              0.0022   \n",
       "3        0.91     29.47      0.94           0.0002              0.0039   \n",
       "4        0.91     29.86      0.94           0.0003              0.0055   \n",
       "\n",
       "   precipProbability  ...    precipTypeIsOther  pressure  temperatureMax  \\\n",
       "0               0.00  ...                    0   1027.13           35.70   \n",
       "1               0.05  ...                    0   1026.87           35.10   \n",
       "2               0.06  ...                    0   1026.88           33.38   \n",
       "3               0.15  ...                    0   1026.37           33.19   \n",
       "4               0.24  ...                    0   1026.19           33.85   \n",
       "\n",
       "   temperatureMin  visibility  windBearing  windSpeed        NDVI  \\\n",
       "0           27.48        2.46          214       1.18  134.110657   \n",
       "1           26.92        2.83          166       1.01  131.506592   \n",
       "2           26.95        2.95          158       1.03  131.472946   \n",
       "3           27.17        2.89          153       1.84  131.288300   \n",
       "4           27.07        2.97          156       1.85  131.288300   \n",
       "\n",
       "   DayInSeason  Yield  \n",
       "0            0   35.7  \n",
       "1            0   35.7  \n",
       "2            0   35.7  \n",
       "3            0   35.7  \n",
       "4            0   35.7  \n",
       "\n",
       "[5 rows x 23 columns]"
      ]
     },
     "execution_count": 2,
     "metadata": {},
     "output_type": "execute_result"
    }
   ],
   "source": [
    "df = pd.read_csv('data/wheat-2013-supervised.csv')\n",
    "drop_cols = ['CountyName','State','Date']\n",
    "df.drop(drop_cols,axis=1,inplace=True)\n",
    "df.head()"
   ]
  },
  {
   "cell_type": "markdown",
   "metadata": {},
   "source": [
    "## DATA SIZE CHECK\n",
    "\n",
    "I check for data length to double check if I should run on my local computer or AWS."
   ]
  },
  {
   "cell_type": "code",
   "execution_count": 3,
   "metadata": {
    "collapsed": false
   },
   "outputs": [
    {
     "data": {
      "text/plain": [
       "(177493, 23)"
      ]
     },
     "execution_count": 3,
     "metadata": {},
     "output_type": "execute_result"
    }
   ],
   "source": [
    "df.shape"
   ]
  },
  {
   "cell_type": "markdown",
   "metadata": {},
   "source": [
    "## NULL CHECK\n",
    "\n",
    "This is important to note for the preprocessing stage, where I will impute a value (such as average) for missing data.\n",
    "\n",
    "The following features have missing data: precipIntensity, precipIntensityMax, precipProbability, pressure, visibility"
   ]
  },
  {
   "cell_type": "code",
   "execution_count": 4,
   "metadata": {
    "collapsed": false
   },
   "outputs": [
    {
     "data": {
      "text/plain": [
       "Latitude                    0\n",
       "Longitude                   0\n",
       "apparentTemperatureMax      0\n",
       "apparentTemperatureMin      0\n",
       "cloudCover                  0\n",
       "dewPoint                    0\n",
       "humidity                    0\n",
       "precipIntensity             1\n",
       "precipIntensityMax          1\n",
       "precipProbability           1\n",
       "precipAccumulation          0\n",
       "precipTypeIsRain            0\n",
       "precipTypeIsSnow            0\n",
       "precipTypeIsOther           0\n",
       "pressure                  254\n",
       "temperatureMax              0\n",
       "temperatureMin              0\n",
       "visibility                 30\n",
       "windBearing                 0\n",
       "windSpeed                   0\n",
       "NDVI                        0\n",
       "DayInSeason                 0\n",
       "Yield                       0\n",
       "dtype: int64"
      ]
     },
     "execution_count": 4,
     "metadata": {},
     "output_type": "execute_result"
    }
   ],
   "source": [
    "df.isnull().sum()"
   ]
  },
  {
   "cell_type": "markdown",
   "metadata": {},
   "source": [
    "## FEATURE VARIANCE CHECK\n",
    "\n",
    "I check for zero variance features (i.e. features with just one value). The following feature(s) have zero variance: precipTypeIsOther"
   ]
  },
  {
   "cell_type": "code",
   "execution_count": 5,
   "metadata": {
    "collapsed": false
   },
   "outputs": [
    {
     "name": "stdout",
     "output_type": "stream",
     "text": [
      "dewPoint ==> var:278.479665344\n",
      "humidity ==> var:0.026761541123\n",
      "precipIntensity ==> var:2.07884441849e-05\n",
      "precipIntensityMax ==> var:0.00200543474883\n",
      "precipProbability ==> var:0.064219439784\n",
      "precipAccumulation ==> var:0.131102111636\n",
      "precipTypeIsRain ==> var:0.166287619868\n",
      "precipTypeIsSnow ==> var:0.0822035304839\n",
      "*****LOW VARIANCE WARNING***** ==> precipTypeIsOther ==> var:0.0\n",
      "pressure ==> var:74.0873495915\n",
      "temperatureMax ==> var:430.781354338\n",
      "temperatureMin ==> var:316.90117822\n",
      "visibility ==> var:1.64280922978\n",
      "windBearing ==> var:10837.5596277\n",
      "windSpeed ==> var:22.7315132832\n",
      "NDVI ==> var:102.622306243\n",
      "DayInSeason ==> var:2873.90002706\n",
      "Yield ==> var:231.469040495\n"
     ]
    }
   ],
   "source": [
    "for col in df.columns[5:]:\n",
    "    if df[col].var() == 0:\n",
    "        print '*****LOW VARIANCE WARNING***** ==> {} ==> var:{}'.format(col,df[col].var())\n",
    "    else:\n",
    "        print '{} ==> var:{}'.format(col,df[col].var())"
   ]
  },
  {
   "cell_type": "markdown",
   "metadata": {},
   "source": [
    "## REMOVE USELESS FEATURE(S)\n",
    "\n",
    "As you can see below, all values for \"precipTypeIsOther\" is all zero; thus making it a useless feature. So I removed the feature."
   ]
  },
  {
   "cell_type": "code",
   "execution_count": 6,
   "metadata": {
    "collapsed": false
   },
   "outputs": [
    {
     "data": {
      "image/png": "[encoded data removed]",
      "text/plain": [
       "<matplotlib.figure.Figure at 0x1121a2850>"
      ]
     },
     "metadata": {},
     "output_type": "display_data"
    }
   ],
   "source": [
    "df.precipTypeIsOther.value_counts().plot(kind='bar')\n",
    "df.drop('precipTypeIsOther',axis=1,inplace=True)"
   ]
  },
  {
   "cell_type": "markdown",
   "metadata": {},
   "source": [
    "## IMPUTATION | DROP NULL ROWS\n",
    "\n",
    "I'm typically frugal with my data and try not to throw anything out (i.e. I would impute averages or other extrapolated values that are appropriate). However, the ratio of NaNs to data points is so small enough for me to drop any NaNs/null values."
   ]
  },
  {
   "cell_type": "code",
   "execution_count": 7,
   "metadata": {
    "collapsed": false
   },
   "outputs": [],
   "source": [
    "df.dropna(inplace=True)"
   ]
  },
  {
   "cell_type": "markdown",
   "metadata": {},
   "source": [
    "## SAVE DATA TO CSV"
   ]
  },
  {
   "cell_type": "code",
   "execution_count": 8,
   "metadata": {
    "collapsed": true
   },
   "outputs": [],
   "source": [
    "df.to_csv('data/wheat-2013-supervised-edited.csv')"
   ]
  }
 ],
 "metadata": {
  "kernelspec": {
   "display_name": "Python [Root]",
   "language": "python",
   "name": "Python [Root]"
  },
  "language_info": {
   "codemirror_mode": {
    "name": "ipython",
    "version": 2
   },
   "file_extension": ".py",
   "mimetype": "text/x-python",
   "name": "python",
   "nbconvert_exporter": "python",
   "pygments_lexer": "ipython2",
   "version": "2.7.12"
  }
 },
 "nbformat": 4,
 "nbformat_minor": 0
}
