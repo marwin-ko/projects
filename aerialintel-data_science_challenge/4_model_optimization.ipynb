{
 "cells": [
  {
   "cell_type": "markdown",
   "metadata": {},
   "source": [
    "# MODEL OPTIMIZATION"
   ]
  },
  {
   "cell_type": "code",
   "execution_count": 2,
   "metadata": {
    "collapsed": false
   },
   "outputs": [],
   "source": [
    "from sklearn.ensemble import RandomForestRegressor, GradientBoostingRegressor\n",
    "from sklearn.linear_model import LinearRegression, Ridge, RANSACRegressor\n",
    "from sklearn.cross_validation import train_test_split, cross_val_score\n",
    "# from xgboost import XGBRegressor #faster version of gradient boosting regressor\n",
    "from sklearn.grid_search import GridSearchCV\n",
    "from sklearn.preprocessing import StandardScaler\n",
    "import matplotlib.pyplot as plt\n",
    "import pandas as pd\n",
    "import numpy as np\n",
    "import pickle\n",
    "% matplotlib inline\n",
    "import warnings\n",
    "warnings.filterwarnings('ignore')"
   ]
  },
  {
   "cell_type": "code",
   "execution_count": 4,
   "metadata": {
    "collapsed": true
   },
   "outputs": [],
   "source": [
    "with open('model_opt_train_scores.plk','rb') as f:\n",
    "    train_pickle = pickle.load(f)\n",
    "with open('model_opt_test_scores.plk','rb') as f:\n",
    "    test_pickle = pickle.load(f)"
   ]
  },
  {
   "cell_type": "code",
   "execution_count": 6,
   "metadata": {
    "collapsed": false
   },
   "outputs": [
    {
     "data": {
      "text/plain": [
       "{'Gradient Boost': [array([ 0.1223124 ,  0.19794912,  0.27085387,  0.34028494,  0.41444008]),\n",
       "  array([ 0.14824164,  0.24629178,  0.32742355,  0.40939547,  0.49595255]),\n",
       "  array([ 0.16412742,  0.27445263,  0.36227547,  0.45425053,  0.54449455]),\n",
       "  array([ 0.17519029,  0.29357501,  0.38899756,  0.48669617,  0.57725783]),\n",
       "  array([ 0.18339668,  0.30871557,  0.40978536,  0.51166513,  0.60144719])],\n",
       " 'Random Forest': [array([ 0.04010479,  0.05908448,  0.08165475,  0.10453716,  0.13264063]),\n",
       "  array([ 0.04032215,  0.05891103,  0.08146616,  0.10415089,  0.1322653 ]),\n",
       "  array([ 0.04033409,  0.05912052,  0.0816457 ,  0.10433563,  0.13244944]),\n",
       "  array([ 0.04034061,  0.05897687,  0.08163483,  0.10424303,  0.13225089]),\n",
       "  array([ 0.04033516,  0.05896249,  0.08152186,  0.10410829,  0.13207134])]}"
      ]
     },
     "execution_count": 6,
     "metadata": {},
     "output_type": "execute_result"
    }
   ],
   "source": [
    "train_pickle"
   ]
  },
  {
   "cell_type": "markdown",
   "metadata": {},
   "source": [
    "## LOAD DATA"
   ]
  },
  {
   "cell_type": "code",
   "execution_count": 6,
   "metadata": {
    "collapsed": false
   },
   "outputs": [
    {
     "data": {
      "text/html": [
       "<div>\n",
       "<table border=\"1\" class=\"dataframe\">\n",
       "  <thead>\n",
       "    <tr style=\"text-align: right;\">\n",
       "      <th></th>\n",
       "      <th>apparentTemperatureMax</th>\n",
       "      <th>apparentTemperatureMin</th>\n",
       "      <th>cloudCover</th>\n",
       "      <th>dewPoint</th>\n",
       "      <th>humidity</th>\n",
       "      <th>precipIntensity</th>\n",
       "      <th>precipIntensityMax</th>\n",
       "      <th>precipProbability</th>\n",
       "      <th>precipAccumulation</th>\n",
       "      <th>precipTypeIsRain</th>\n",
       "      <th>precipTypeIsSnow</th>\n",
       "      <th>pressure</th>\n",
       "      <th>temperatureMax</th>\n",
       "      <th>temperatureMin</th>\n",
       "      <th>visibility</th>\n",
       "      <th>windBearing</th>\n",
       "      <th>windSpeed</th>\n",
       "      <th>NDVI</th>\n",
       "      <th>DayInSeason</th>\n",
       "      <th>Yield</th>\n",
       "    </tr>\n",
       "  </thead>\n",
       "  <tbody>\n",
       "    <tr>\n",
       "      <th>0</th>\n",
       "      <td>35.70</td>\n",
       "      <td>20.85</td>\n",
       "      <td>0.00</td>\n",
       "      <td>29.53</td>\n",
       "      <td>0.91</td>\n",
       "      <td>0.0000</td>\n",
       "      <td>0.0000</td>\n",
       "      <td>0.00</td>\n",
       "      <td>0.000</td>\n",
       "      <td>0</td>\n",
       "      <td>0</td>\n",
       "      <td>1027.13</td>\n",
       "      <td>35.70</td>\n",
       "      <td>27.48</td>\n",
       "      <td>2.46</td>\n",
       "      <td>214</td>\n",
       "      <td>1.18</td>\n",
       "      <td>134.110657</td>\n",
       "      <td>0</td>\n",
       "      <td>35.7</td>\n",
       "    </tr>\n",
       "    <tr>\n",
       "      <th>1</th>\n",
       "      <td>35.10</td>\n",
       "      <td>26.92</td>\n",
       "      <td>0.00</td>\n",
       "      <td>29.77</td>\n",
       "      <td>0.93</td>\n",
       "      <td>0.0001</td>\n",
       "      <td>0.0019</td>\n",
       "      <td>0.05</td>\n",
       "      <td>0.000</td>\n",
       "      <td>1</td>\n",
       "      <td>0</td>\n",
       "      <td>1026.87</td>\n",
       "      <td>35.10</td>\n",
       "      <td>26.92</td>\n",
       "      <td>2.83</td>\n",
       "      <td>166</td>\n",
       "      <td>1.01</td>\n",
       "      <td>131.506592</td>\n",
       "      <td>0</td>\n",
       "      <td>35.7</td>\n",
       "    </tr>\n",
       "    <tr>\n",
       "      <th>2</th>\n",
       "      <td>33.38</td>\n",
       "      <td>26.95</td>\n",
       "      <td>0.00</td>\n",
       "      <td>29.36</td>\n",
       "      <td>0.94</td>\n",
       "      <td>0.0001</td>\n",
       "      <td>0.0022</td>\n",
       "      <td>0.06</td>\n",
       "      <td>0.020</td>\n",
       "      <td>0</td>\n",
       "      <td>1</td>\n",
       "      <td>1026.88</td>\n",
       "      <td>33.38</td>\n",
       "      <td>26.95</td>\n",
       "      <td>2.95</td>\n",
       "      <td>158</td>\n",
       "      <td>1.03</td>\n",
       "      <td>131.472946</td>\n",
       "      <td>0</td>\n",
       "      <td>35.7</td>\n",
       "    </tr>\n",
       "    <tr>\n",
       "      <th>3</th>\n",
       "      <td>28.05</td>\n",
       "      <td>25.93</td>\n",
       "      <td>0.91</td>\n",
       "      <td>29.47</td>\n",
       "      <td>0.94</td>\n",
       "      <td>0.0002</td>\n",
       "      <td>0.0039</td>\n",
       "      <td>0.15</td>\n",
       "      <td>0.036</td>\n",
       "      <td>0</td>\n",
       "      <td>1</td>\n",
       "      <td>1026.37</td>\n",
       "      <td>33.19</td>\n",
       "      <td>27.17</td>\n",
       "      <td>2.89</td>\n",
       "      <td>153</td>\n",
       "      <td>1.84</td>\n",
       "      <td>131.288300</td>\n",
       "      <td>0</td>\n",
       "      <td>35.7</td>\n",
       "    </tr>\n",
       "    <tr>\n",
       "      <th>4</th>\n",
       "      <td>28.83</td>\n",
       "      <td>25.98</td>\n",
       "      <td>0.91</td>\n",
       "      <td>29.86</td>\n",
       "      <td>0.94</td>\n",
       "      <td>0.0003</td>\n",
       "      <td>0.0055</td>\n",
       "      <td>0.24</td>\n",
       "      <td>0.000</td>\n",
       "      <td>1</td>\n",
       "      <td>0</td>\n",
       "      <td>1026.19</td>\n",
       "      <td>33.85</td>\n",
       "      <td>27.07</td>\n",
       "      <td>2.97</td>\n",
       "      <td>156</td>\n",
       "      <td>1.85</td>\n",
       "      <td>131.288300</td>\n",
       "      <td>0</td>\n",
       "      <td>35.7</td>\n",
       "    </tr>\n",
       "  </tbody>\n",
       "</table>\n",
       "</div>"
      ],
      "text/plain": [
       "   apparentTemperatureMax  apparentTemperatureMin  cloudCover  dewPoint  \\\n",
       "0                   35.70                   20.85        0.00     29.53   \n",
       "1                   35.10                   26.92        0.00     29.77   \n",
       "2                   33.38                   26.95        0.00     29.36   \n",
       "3                   28.05                   25.93        0.91     29.47   \n",
       "4                   28.83                   25.98        0.91     29.86   \n",
       "\n",
       "   humidity  precipIntensity  precipIntensityMax  precipProbability  \\\n",
       "0      0.91           0.0000              0.0000               0.00   \n",
       "1      0.93           0.0001              0.0019               0.05   \n",
       "2      0.94           0.0001              0.0022               0.06   \n",
       "3      0.94           0.0002              0.0039               0.15   \n",
       "4      0.94           0.0003              0.0055               0.24   \n",
       "\n",
       "   precipAccumulation  precipTypeIsRain  precipTypeIsSnow  pressure  \\\n",
       "0               0.000                 0                 0   1027.13   \n",
       "1               0.000                 1                 0   1026.87   \n",
       "2               0.020                 0                 1   1026.88   \n",
       "3               0.036                 0                 1   1026.37   \n",
       "4               0.000                 1                 0   1026.19   \n",
       "\n",
       "   temperatureMax  temperatureMin  visibility  windBearing  windSpeed  \\\n",
       "0           35.70           27.48        2.46          214       1.18   \n",
       "1           35.10           26.92        2.83          166       1.01   \n",
       "2           33.38           26.95        2.95          158       1.03   \n",
       "3           33.19           27.17        2.89          153       1.84   \n",
       "4           33.85           27.07        2.97          156       1.85   \n",
       "\n",
       "         NDVI  DayInSeason  Yield  \n",
       "0  134.110657            0   35.7  \n",
       "1  131.506592            0   35.7  \n",
       "2  131.472946            0   35.7  \n",
       "3  131.288300            0   35.7  \n",
       "4  131.288300            0   35.7  "
      ]
     },
     "execution_count": 6,
     "metadata": {},
     "output_type": "execute_result"
    }
   ],
   "source": [
    "df = pd.read_csv('data/wheat-2013-supervised-edited.csv')\n",
    "drop_cols = ['Latitude','Longitude'] + [df.columns[0]]\n",
    "df.drop(drop_cols,axis=1,inplace=True)\n",
    "df.head()"
   ]
  },
  {
   "cell_type": "code",
   "execution_count": null,
   "metadata": {
    "collapsed": true
   },
   "outputs": [],
   "source": []
  },
  {
   "cell_type": "markdown",
   "metadata": {},
   "source": [
    "## OPTIMIZE MODELS"
   ]
  },
  {
   "cell_type": "code",
   "execution_count": 3,
   "metadata": {
    "collapsed": false
   },
   "outputs": [],
   "source": [
    "with open('SBS_feat_set.plk','rb') as f:\n",
    "    sbs_dict = pickle.load(f)"
   ]
  },
  {
   "cell_type": "code",
   "execution_count": 8,
   "metadata": {
    "collapsed": false
   },
   "outputs": [],
   "source": [
    "def optimizer(name,*params):\n",
    "    if name == 'Linear':\n",
    "        k, model = 8, RANSACRegressor(base_estimator=LinearRegression(),max_trials=100,min_samples=params[0])\n",
    "    elif name == 'Random Forest':\n",
    "        k, model = 4, RandomForestRegressor(n_estimators=params[0],max_depth=params[1],random_state=42)\n",
    "    elif name == 'Gradient Boost':\n",
    "        k, model = 8, GradientBoostingRegressor(n_estimators=params[0],max_depth=params[1])\n",
    "#         k, model = 8, XGBRegressor(n_estimators=params[0],max_depth=params[1]) #XG Boost (same as gradient boost)\n",
    "    X = np.matrix(df.ix[:,:-1])[:,list(sbs_dict[name][k])][:500]\n",
    "    y = np.array(df.ix[:,-1])[:500]\n",
    "    X_std = StandardScaler().fit_transform(X)\n",
    "    y_std = StandardScaler().fit_transform(y)\n",
    "    X_train, X_test, y_train, y_test = train_test_split(X_std,y_std,test_size=0.25,random_state=42)\n",
    "    results = model.fit(X_train,y_train)\n",
    "    train_score = np.mean(cross_val_score(results,X_train,y_train,cv=8))\n",
    "    test_score = results.score(X_test,y_test)\n",
    "    return train_score, test_score"
   ]
  },
  {
   "cell_type": "code",
   "execution_count": null,
   "metadata": {
    "collapsed": false
   },
   "outputs": [],
   "source": [
    "name = 'Linear'\n",
    "test_scores = []\n",
    "train_scores= []\n",
    "param_list = []\n",
    "min_samp_size = 100#70000\n",
    "max_samp_size = 200#100000\n",
    "for param in np.arange(min_samp_size,max_samp_size+1,100): #10000):\n",
    "    train_score, test_score = optimizer(name,param)\n",
    "    train_scores.append(train_score)\n",
    "    test_scores.append(test_score)\n",
    "    param_list.append(param)\n",
    "plt.figure(figsize=(10,7))\n",
    "plt.plot(param_list,train_scores,marker='^')\n",
    "plt.plot(param_list,test_scores,marker='o')\n",
    "plt.legend(['Train','Test'],loc=0)\n",
    "plt.title('Linear Regression')\n",
    "plt.xlabel('RANSAC Sample Size')\n",
    "# plt.axis([min_samp_size,max_samp_size,0,1])\n",
    "plt.ylabel('Score')\n",
    "plt.grid(True)\n",
    "plt.show()"
   ]
  },
  {
   "cell_type": "code",
   "execution_count": 5,
   "metadata": {
    "collapsed": false
   },
   "outputs": [
    {
     "data": {
      "image/png": "[encoded data removed]",
      "text/plain": [
       "<matplotlib.figure.Figure at 0x7f80b1b04150>"
      ]
     },
     "metadata": {},
     "output_type": "display_data"
    }
   ],
   "source": [
    "name = 'Random Forest'\n",
    "test_scores = []\n",
    "train_scores= []\n",
    "param_list = []\n",
    "min_trees,max_trees = 20,100\n",
    "min_depth,max_depth = 1,5\n",
    "for param1 in np.arange(min_trees,max_trees+1,20):\n",
    "    bin1 = []\n",
    "    bin2 = []\n",
    "    param_list.append(param1)\n",
    "#     for param2 in np.arange(min_depth,max_depth+1,1):\n",
    "#         train_score, test_score = optimizer(name,param1,param2)\n",
    "#         bin1.append(train_score)\n",
    "#         bin2.append(test_score)\n",
    "#     train_scores.append(np.array(bin1))\n",
    "#     test_scores.append(np.array(bin2))\n",
    "\n",
    "train_scores= train_pickle[name]    \n",
    "test_scores = test_pickle[name]\n",
    "\n",
    "fig,axs = plt.subplots(nrows=1,ncols=2)\n",
    "fig.set_figheight(7)\n",
    "fig.set_figwidth(15)\n",
    "ax = axs[0]\n",
    "ax.plot(param_list,train_scores,marker='^')\n",
    "ax.legend(['n_depth={}'.format(n) for n in np.arange(1,max_depth+1,1)],loc=3)\n",
    "ax.set_title('Random Forest (Train)')\n",
    "ax.axis([min_trees,max_trees,0,0.2])\n",
    "ax.set_xlabel('n Trees')\n",
    "ax.set_ylabel('Score')\n",
    "ax.grid(True)\n",
    "\n",
    "ax = axs[1]\n",
    "ax.plot(param_list,test_scores,marker='o')\n",
    "ax.legend(['n_depth={}'.format(n) for n in np.arange(1,max_depth+1,1)],loc=3)\n",
    "ax.set_title('Random Forest (Test)')\n",
    "ax.axis([min_trees,max_trees,0,0.2])\n",
    "ax.set_xlabel('n Trees')\n",
    "ax.set_ylabel('Score')\n",
    "ax.grid(True)"
   ]
  },
  {
   "cell_type": "code",
   "execution_count": 10,
   "metadata": {
    "collapsed": false
   },
   "outputs": [
    {
     "data": {
      "image/png": "[encoded data removed]",
      "text/plain": [
       "<matplotlib.figure.Figure at 0x7fc7601046d0>"
      ]
     },
     "metadata": {},
     "output_type": "display_data"
    }
   ],
   "source": [
    "name = 'Gradient Boost'\n",
    "# test_scores = []\n",
    "# train_scores= []\n",
    "param_list = []\n",
    "min_trees,max_trees = 100,500\n",
    "min_depth,max_depth = 1,5\n",
    "\n",
    "for param1 in np.arange(min_trees,max_trees+1,100):\n",
    "#     bin1 = []\n",
    "#     bin2 = []\n",
    "    param_list.append(param1)\n",
    "#     for param2 in np.arange(min_depth,max_depth+1,1):\n",
    "#         train_score, test_score = optimizer(name,param1,param2)\n",
    "#         bin1.append(train_score)\n",
    "#         bin2.append(test_score)\n",
    "#     train_scores.append(np.array(bin1))\n",
    "#     test_scores.append(np.array(bin2))\n",
    "\n",
    "\n",
    "\n",
    "train_scores= train_pickle[name]    \n",
    "test_scores = test_pickle[name]\n",
    "\n",
    "fig,axs = plt.subplots(nrows=1,ncols=2)\n",
    "fig.set_figheight(7)\n",
    "fig.set_figwidth(15)\n",
    "ax = axs[0]\n",
    "ax.plot(param_list,train_scores,marker='^')\n",
    "ax.legend(['n_depth={}'.format(n) for n in np.arange(min_depth,max_depth+1,1)],loc=3)\n",
    "ax.set_title('XG Boost (Train)')\n",
    "ax.axis([min_trees,max_trees,0,1])\n",
    "ax.set_xlabel('n Trees')\n",
    "ax.set_ylabel('Score')\n",
    "ax.grid(True)\n",
    "\n",
    "ax = axs[1]\n",
    "ax.plot(param_list,test_scores,marker='o')\n",
    "ax.legend(['n_depth={}'.format(n) for n in np.arange(min_depth,max_depth+1,1)],loc=3)\n",
    "ax.set_title('XG Boost (Test)')\n",
    "ax.axis([min_trees,max_trees,0,1])\n",
    "ax.set_xlabel('n Trees')\n",
    "ax.set_ylabel('Score')\n",
    "ax.grid(True)"
   ]
  },
  {
   "cell_type": "code",
   "execution_count": null,
   "metadata": {
    "collapsed": false
   },
   "outputs": [],
   "source": [
    "# model = ExtraTreesRegressor()\n",
    "# params = {'n_estimators':[30,40,50,60,70,80,90,100]}\n",
    "# grid_ = GridSearchCV(model, params)\n",
    "# grid_.fit(X_train, y_train)\n",
    "# best_model = grid_.best_estimator_\n",
    "# best_model"
   ]
  },
  {
   "cell_type": "markdown",
   "metadata": {},
   "source": [
    "## PICKLE MODEL\n",
    "\n",
    "I like to pickle my models and/or anything that may be utilized in a production line later down the line."
   ]
  },
  {
   "cell_type": "code",
   "execution_count": null,
   "metadata": {
    "collapsed": false
   },
   "outputs": [],
   "source": [
    "# filename = 'wheat_ET_model.plk'\n",
    "# with open(filename, 'wb') as f:\n",
    "#     pickle.dump(best_model, f)"
   ]
  },
  {
   "cell_type": "code",
   "execution_count": 2,
   "metadata": {
    "collapsed": false
   },
   "outputs": [],
   "source": [
    "import pickle\n",
    "with open('model_opt_test_scores.plk','rb') as f:\n",
    "    test_scores = pickle.load(f)\n",
    "\n",
    "with open('model_opt_train_scores.plk','rb') as f:\n",
    "    train_scores = pickle.load(f)    "
   ]
  },
  {
   "cell_type": "code",
   "execution_count": 3,
   "metadata": {
    "collapsed": false
   },
   "outputs": [
    {
     "name": "stdout",
     "output_type": "stream",
     "text": [
      "{'Random Forest': [array([ 0.03776551,  0.05406429,  0.07678797,  0.09944242,  0.12876581]), array([ 0.03778458,  0.05471549,  0.07731616,  0.09947768,  0.12864872]), array([ 0.03768327,  0.05435609,  0.07748048,  0.09940684,  0.12856169]), array([ 0.03757413,  0.05414157,  0.07704068,  0.09883323,  0.127699  ]), array([ 0.03747812,  0.05418681,  0.07692758,  0.09872425,  0.12782298])], 'Gradient Boost': [array([ 0.12184332,  0.19532494,  0.26881227,  0.33918064,  0.41470731]), array([ 0.14747405,  0.24274439,  0.32301907,  0.40695041,  0.49130032]), array([ 0.16270996,  0.26953883,  0.35945251,  0.45437426,  0.54299212]), array([ 0.17345403,  0.28904247,  0.38499012,  0.4842335 ,  0.57775676]), array([ 0.18146622,  0.30415458,  0.40713506,  0.50875417,  0.60492643])]}\n"
     ]
    }
   ],
   "source": [
    "print test_scores"
   ]
  },
  {
   "cell_type": "markdown",
   "metadata": {},
   "source": [
    "## References\n",
    "\n",
    "https://www.researchgate.net/post/How_to_determine_the_number_of_trees_to_be_generated_in_Random_Forest_algorithm"
   ]
  }
 ],
 "metadata": {
  "anaconda-cloud": {},
  "kernelspec": {
   "display_name": "Python [Root]",
   "language": "python",
   "name": "Python [Root]"
  },
  "language_info": {
   "codemirror_mode": {
    "name": "ipython",
    "version": 2
   },
   "file_extension": ".py",
   "mimetype": "text/x-python",
   "name": "python",
   "nbconvert_exporter": "python",
   "pygments_lexer": "ipython2",
   "version": "2.7.12"
  }
 },
 "nbformat": 4,
 "nbformat_minor": 0
}
