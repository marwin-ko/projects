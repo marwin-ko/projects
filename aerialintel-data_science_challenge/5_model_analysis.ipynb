{
 "cells": [
  {
   "cell_type": "markdown",
   "metadata": {},
   "source": [
    "# MODEL ANALYSIS"
   ]
  },
  {
   "cell_type": "code",
   "execution_count": 1,
   "metadata": {
    "collapsed": true
   },
   "outputs": [],
   "source": [
    "from time import time\n",
    "import pandas as pd\n",
    "import numpy as np\n",
    "import pickle\n",
    "import matplotlib.pyplot as plt\n",
    "% matplotlib inline"
   ]
  },
  {
   "cell_type": "markdown",
   "metadata": {},
   "source": [
    "## LOAD TEST SET"
   ]
  },
  {
   "cell_type": "code",
   "execution_count": 2,
   "metadata": {
    "collapsed": true
   },
   "outputs": [],
   "source": [
    "df = pd.read_csv('data/wheat-2014-supervised.csv')\n",
    "drop_cols = ['CountyName','State','Date', 'precipTypeIsOther'] + ['Latitude','Longitude'] \n",
    "df.drop(drop_cols,axis=1,inplace=True)\n",
    "df.dropna(inplace=True)"
   ]
  },
  {
   "cell_type": "code",
   "execution_count": 3,
   "metadata": {
    "collapsed": false
   },
   "outputs": [],
   "source": [
    "# with open('SBS_feat_set.plk','rb') as f:\n",
    "#     sbs_dict = pickle.load(f)\n",
    "# with open('trained_model_Linear.plk','rb') as f:\n",
    "#     LR_model = pickle.load(f)\n",
    "# with open('trained_model_Random Forest.plk','rb') as f:\n",
    "#     RF_model = pickle.load(f)\n",
    "# with open('trained_model_Gradient Boost.plk','rb') as f:\n",
    "#     GB_model = pickle.load(f)\n",
    "with open('predictions.plk','rb') as f:\n",
    "    y_preds = pickle.load(f)    "
   ]
  },
  {
   "cell_type": "code",
   "execution_count": 4,
   "metadata": {
    "collapsed": false
   },
   "outputs": [
    {
     "ename": "NameError",
     "evalue": "name 'LR_model' is not defined",
     "output_type": "error",
     "traceback": [
      "\u001b[0;31m---------------------------------------------------------------------------\u001b[0m",
      "\u001b[0;31mNameError\u001b[0m                                 Traceback (most recent call last)",
      "\u001b[0;32m<ipython-input-4-164f6301be6a>\u001b[0m in \u001b[0;36m<module>\u001b[0;34m()\u001b[0m\n\u001b[1;32m      1\u001b[0m \u001b[0mmodels\u001b[0m \u001b[0;34m=\u001b[0m \u001b[0;34m{\u001b[0m\u001b[0;34m}\u001b[0m\u001b[0;34m\u001b[0m\u001b[0m\n\u001b[0;32m----> 2\u001b[0;31m \u001b[0mmodels\u001b[0m\u001b[0;34m[\u001b[0m\u001b[0;34m'Linear'\u001b[0m\u001b[0;34m]\u001b[0m \u001b[0;34m=\u001b[0m \u001b[0mLR_model\u001b[0m\u001b[0;34m\u001b[0m\u001b[0m\n\u001b[0m\u001b[1;32m      3\u001b[0m \u001b[0mmodels\u001b[0m\u001b[0;34m[\u001b[0m\u001b[0;34m'Random Forest'\u001b[0m\u001b[0;34m]\u001b[0m \u001b[0;34m=\u001b[0m \u001b[0mRF_model\u001b[0m\u001b[0;34m\u001b[0m\u001b[0m\n\u001b[1;32m      4\u001b[0m \u001b[0mmodels\u001b[0m\u001b[0;34m[\u001b[0m\u001b[0;34m'Gradient Boost'\u001b[0m\u001b[0;34m]\u001b[0m \u001b[0;34m=\u001b[0m \u001b[0mGB_model\u001b[0m\u001b[0;34m\u001b[0m\u001b[0m\n",
      "\u001b[0;31mNameError\u001b[0m: name 'LR_model' is not defined"
     ]
    }
   ],
   "source": [
    "# models = {}\n",
    "# models['Linear'] = LR_model\n",
    "# models['Random Forest'] = RF_model\n",
    "# models['Gradient Boost'] = GB_model"
   ]
  },
  {
   "cell_type": "code",
   "execution_count": null,
   "metadata": {
    "collapsed": true
   },
   "outputs": [],
   "source": [
    "# y_pred = {}\n",
    "# for name,model in models.items():\n",
    "#     if name == 'Random Forest':\n",
    "#         k = 4\n",
    "#     else:\n",
    "#         k = 8\n",
    "#     X_test = np.matrix(df.ix[:,:-1])[:,list(sbs_dict[name][k])]\n",
    "#     y_true = np.array(df.ix[:,-1])\n",
    "#     y_pred[name] = [model.predict(X_test[i]) for i in range(len(X_test))]"
   ]
  },
  {
   "cell_type": "code",
   "execution_count": 5,
   "metadata": {
    "collapsed": false
   },
   "outputs": [],
   "source": [
    "def model_eval(name,y_true,y_pred):  \n",
    "    figs,axs = plt.subplots(ncols=2,nrows=1)\n",
    "    figs.set_figwidth(15)\n",
    "    figs.set_figheight(10)   \n",
    "    ax = axs[0]\n",
    "    ax.scatter(y_pred,y_pred-y_true)\n",
    "#     ax.plot([0,78],[0,78])\n",
    "#     ax.set_xlim([0,80])\n",
    "#     ax.set_ylim([0,80])\n",
    "    ax.set_title('Residual VS. Predicted')\n",
    "    ax.set_xlabel('True Yield')\n",
    "    ax.set_ylabel('Predicted Yield')\n",
    "    ax.grid(True)\n",
    "    \n",
    "    ax = axs[1]\n",
    "    ax.scatter(y_true,y_pred)\n",
    "#     ax.plot([0,78],[0,78])\n",
    "#     ax.set_xlim([0,80])\n",
    "#     ax.set_ylim([0,80])\n",
    "    ax.set_title('Predicted VS. True')\n",
    "    ax.set_xlabel('True Yield')\n",
    "    ax.set_ylabel('Predicted Yield')\n",
    "    ax.grid(True)"
   ]
  },
  {
   "cell_type": "code",
   "execution_count": null,
   "metadata": {
    "collapsed": false
   },
   "outputs": [],
   "source": [
    "name = ['Linear','Random Forest','Gradient Booost']\n",
    "y_true = np.array(df.ix[:,-1])\n",
    "y_pred = y_preds[name]\n",
    "model_eval(name,y_true,y_pred)"
   ]
  },
  {
   "cell_type": "code",
   "execution_count": null,
   "metadata": {
    "collapsed": true
   },
   "outputs": [],
   "source": [
    "# graphs for LR, RF, GB\n",
    "\n",
    "# ensemble vote? (basically pipeline predictions and then average?)\n",
    "\n",
    "# final ensemble graph\n",
    "\n",
    "# write in some analysis stuff......"
   ]
  },
  {
   "cell_type": "code",
   "execution_count": null,
   "metadata": {
    "collapsed": true
   },
   "outputs": [],
   "source": [
    "# don't forget to do...\n",
    "- README.md\n",
    "- push project to repo\n",
    "- push cookbook stuff\n",
    "- coursera stuff lectures\n",
    "- s3 bucket (click rate stuff!)\n",
    "- set up solid AWS image"
   ]
  }
 ],
 "metadata": {
  "anaconda-cloud": {},
  "kernelspec": {
   "display_name": "Python [Root]",
   "language": "python",
   "name": "Python [Root]"
  },
  "language_info": {
   "codemirror_mode": {
    "name": "ipython",
    "version": 2
   },
   "file_extension": ".py",
   "mimetype": "text/x-python",
   "name": "python",
   "nbconvert_exporter": "python",
   "pygments_lexer": "ipython2",
   "version": "2.7.12"
  }
 },
 "nbformat": 4,
 "nbformat_minor": 0
}
